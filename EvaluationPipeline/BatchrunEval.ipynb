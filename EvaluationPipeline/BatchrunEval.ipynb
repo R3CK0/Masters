{
 "cells": [
  {
   "cell_type": "code",
   "execution_count": 1,
   "metadata": {},
   "outputs": [],
   "source": [
    "import json\n",
    "from openai import OpenAI\n",
    "import os\n",
    "import re\n",
    "os.chdir(\"/home/god/Documents/Masters\")"
   ]
  },
  {
   "cell_type": "code",
   "execution_count": 2,
   "metadata": {},
   "outputs": [],
   "source": [
    "# key for sorting\n",
    "def natural_keys(text):\n",
    "    return [int(c) if c.isdigit() else c.lower() for c in re.split('([0-9]+)', text)]\n"
   ]
  },
  {
   "cell_type": "code",
   "execution_count": 4,
   "metadata": {},
   "outputs": [],
   "source": [
    "#Creates the format for the jsonl file\n",
    "def create_jsonl_format(subdomain, prompt, id, nl=False):\n",
    "    jsonl = []\n",
    "    for idx, (domain, prompt) in enumerate(zip(subdomain, prompt)):\n",
    "        start_index = domain.find(\"(define\")\n",
    "        dom = domain[start_index:]\n",
    "        if nl:\n",
    "            ids = id+str(idx)+\"_nl\"\n",
    "        else:\n",
    "            ids = id+str(idx)\n",
    "        jsonl.append({\"custom_id\": ids, \"method\":\"POST\", \"url\":\"/v1/chat/completions\", \"body\":{\"model\": \"gpt-4o\", \"messages\": [{\"role\": \"system\", \"content\": \"You are a PDDL domain creation expert, you modify domains based on requested changes.\"},{\"role\": \"user\", \"content\": f\"{prompt}\\n\\n{dom}\"}],\"max_tokens\": 3012, \"temperature\": 1, \"top_p\": 1}})\n",
    "    return jsonl"
   ]
  },
  {
   "cell_type": "code",
   "execution_count": 5,
   "metadata": {},
   "outputs": [],
   "source": [
    "# For passing directly no batching\n",
    "def create_jsonl_format2(subdomain, prompt, id, nl=False):\n",
    "    jsonl = []\n",
    "    for idx, (domain, prompt) in enumerate(zip(subdomain, prompt)):\n",
    "        start_index = domain.find(\"(define\")\n",
    "        dom = domain[start_index:]\n",
    "        if nl:\n",
    "            ids = id+str(idx)+\"_nl\"\n",
    "        else:\n",
    "            ids = id+str(idx)\n",
    "        jsonl.append({\"custom_id\": ids, \"messages\": [{\"role\": \"system\", \"content\": \"You are a PDDL domain creation expert, you modify domains based on requested changes.\"},{\"role\": \"user\", \"content\": f\"{prompt}\\n\\n{dom}\"}]})\n",
    "    return jsonl"
   ]
  },
  {
   "cell_type": "code",
   "execution_count": 6,
   "metadata": {},
   "outputs": [],
   "source": [
    "# Code and natural language\n",
    "#Creates the format for the jsonl file\n",
    "def create_jsonl_format_code(subdomain, code, id, nl=None):\n",
    "    jsonl = []\n",
    "    for idx, domain in enumerate(subdomain):\n",
    "        start_index = domain.find(\"(define\")\n",
    "        dom = domain[start_index:]\n",
    "        if nl is not None:\n",
    "            ids = id+str(idx)+\"_nl\"\n",
    "            jsonl.append({\"custom_id\": ids, \"method\":\"POST\", \"url\":\"/v1/chat/completions\", \"body\":{\"model\": \"gpt-4o\", \"messages\": [{\"role\": \"system\", \"content\": \"You are a PDDL domain creation expert, you modify provided domains to make them executable based on a given prompt and python wrapper\"},{\"role\": \"user\", \"content\": f\"{nl}\\n\\n{dom}\\n\\nThe following is the executable code for the domain:\\n\\n{code}\"}],\"max_tokens\": 4000, \"temperature\": 1, \"top_p\": 1}})\n",
    "        else:\n",
    "            ids = id+str(idx)\n",
    "            if id != 'Si' and id != 'Ti':\n",
    "                jsonl.append({\"custom_id\": ids, \"method\":\"POST\", \"url\":\"/v1/chat/completions\", \"body\":{\"model\": \"gpt-4o\", \"messages\": [{\"role\": \"system\", \"content\": \"You are a PDDL domain creation expert, you modify provided domains to make them executable based on the codebase.\"},{\"role\": \"user\", \"content\": f\"Modify the following domain based on the given code so that all the functions in the code match the actions of the domain taking into effect preconditions and effects.\\n\\n{dom}\\n\\nThe following is the executable code for the domain:\\n\\n{code}\"}],\"max_tokens\": 4000, \"temperature\": 1, \"top_p\": 1}})\n",
    "            else:\n",
    "                jsonl.append({\"custom_id\": ids, \"method\":\"POST\", \"url\":\"/v1/chat/completions\", \"body\":{\"model\": \"gpt-4o\", \"messages\": [{\"role\": \"system\", \"content\": \"You are a PDDL domain creation expert, you modify provided domains to make them executable based on the codebase.\"},{\"role\": \"user\", \"content\": f\"Modify the following domain based on the given code so that all the functions in the code match the actions of the domain taking into effect preconditions and effects. All durative actions have a duration of 4\\n\\n{dom}\\n\\nThe following is the executable code for the domain:\\n\\n{code}\"}],\"max_tokens\": 4000, \"temperature\": 1, \"top_p\": 1}})\n",
    "\n",
    "    return jsonl"
   ]
  },
  {
   "cell_type": "code",
   "execution_count": 13,
   "metadata": {},
   "outputs": [],
   "source": [
    "#Creates the Batch for passing to openai\n",
    "def create_jsonl_batch(root, format_function, batch_type=\"prompt-only\"):\n",
    "    path = os.path.abspath(root)\n",
    "    batch_json = []\n",
    "    for domain in [\"Depots\", \"DriverLog\", \"Rovers\"]:\n",
    "        for req in [\"Numeric\", \"SimpleTime\", \"Strips\", \"Time\"]:\n",
    "            prompt_files = os.listdir(os.path.join(path,domain,req, \"labels\"))\n",
    "            nl_prompts = sorted([prompts for prompts in prompt_files if prompts.endswith(\"nl.txt\")], key=natural_keys)\n",
    "            reg_prompts = sorted([prompts for prompts in prompt_files if not prompts.endswith(\"nl.txt\")], key=natural_keys)\n",
    "            \n",
    "            subdomain_files = os.listdir(os.path.join(path,domain,req, \"subdomains\"))\n",
    "            subdomains = [subdomain for subdomain in subdomain_files if \"sub\" in subdomain]\n",
    "            subdomains = sorted(subdomains, key=natural_keys)\n",
    "            \n",
    "            if batch_type == \"prompt-and-code\":\n",
    "                with open(os.path.join(path,domain,req, \"signature.py\"), \"r\") as f:\n",
    "                    code = f.read()\n",
    "\n",
    "            sub_prompt = []\n",
    "            for subdomain in subdomains:\n",
    "                with open(os.path.join(path,domain,req, \"subdomains\", subdomain), \"r\") as f:\n",
    "                    sub_prompt.append(f.read())\n",
    "            \n",
    "            nl_pr = []\n",
    "            for prompt in nl_prompts:\n",
    "                with open(os.path.join(path,domain,req, \"labels\", prompt), \"r\") as f:\n",
    "                    nl_pr.append(f.read())\n",
    "                    \n",
    "            reg_pr = []\n",
    "            for prompt in reg_prompts:\n",
    "                with open(os.path.join(path,domain,req, \"labels\", prompt), \"r\") as f:\n",
    "                    reg_pr.append(f.read())\n",
    "\n",
    "            print(\"creating jsonl file for \", domain, req)\n",
    "            if batch_type == \"prompt-only\":\n",
    "                nl_jsonl = format_function(nl_pr, f\"{domain}_{req[:2]}\", True)\n",
    "                reg_jsonl = format_function(reg_pr, f\"{domain}_{req[:2]}\")\n",
    "                \n",
    "            elif batch_type == \"prompt-and-code\":\n",
    "                nl_jsonl = format_function(sub_prompt, code, f\"{domain}_{req[:2]}_code\", nl_pr)\n",
    "                reg_jsonl = format_function(sub_prompt, code, f\"{domain}_{req[:2]}_code\") \n",
    "                \n",
    "            batch_json.extend(reg_jsonl)\n",
    "            batch_json.extend(nl_jsonl)\n",
    "\n",
    "    with open(f\"results/batch-{batch_type}.jsonl\", \"w\") as file:\n",
    "        for line in batch_json:\n",
    "            file.write(json.dumps(line))\n",
    "            file.write(\"\\n\")"
   ]
  },
  {
   "cell_type": "code",
   "execution_count": 8,
   "metadata": {},
   "outputs": [],
   "source": [
    "#Function to upload batch data to openai\n",
    "def save_batch_info(name, data):\n",
    "    with open(\"batch_info.json\", \"w\") as file:\n",
    "        json.dump({name: data}, file)\n",
    "def upload_batch(client, jsonl_file):\n",
    "    batch_file_input = client.files.create(\n",
    "        file=open(jsonl_file, \"rb\"),\n",
    "        purpose=\"batch\"\n",
    "    )\n",
    "    #save_batch_info(\"openai_batch_info\", batch_file_input)\n",
    "    print(\"Batch file uploaded successfully\")\n",
    "    return batch_file_input "
   ]
  },
  {
   "cell_type": "code",
   "execution_count": 9,
   "metadata": {},
   "outputs": [],
   "source": [
    "#Function to start inference on the batch\n",
    "def start_run(client, input_file_id, description = \"Evaluation run with no code\"):\n",
    "    run = client.batches.create(\n",
    "        input_file_id=input_file_id,\n",
    "        endpoint=\"/v1/chat/completions\",\n",
    "        completion_window=\"24h\",\n",
    "        metadata={\"description\": description}    \n",
    "    )\n",
    "    try:\n",
    "        save_batch_info(\"openai_run_info\", run)\n",
    "    except:\n",
    "        print(\"Error saving run info\")\n",
    "    print(\"Run started successfully\")\n",
    "    return run"
   ]
  },
  {
   "cell_type": "code",
   "execution_count": 212,
   "metadata": {},
   "outputs": [
    {
     "name": "stdout",
     "output_type": "stream",
     "text": [
      "creating jsonl file for  Depots Numeric\n",
      "creating jsonl file for  Depots SimpleTime\n",
      "creating jsonl file for  Depots Strips\n",
      "creating jsonl file for  Depots Time\n",
      "creating jsonl file for  DriverLog Numeric\n",
      "creating jsonl file for  DriverLog SimpleTime\n",
      "creating jsonl file for  DriverLog Strips\n",
      "creating jsonl file for  DriverLog Time\n",
      "creating jsonl file for  Rovers Numeric\n",
      "creating jsonl file for  Rovers SimpleTime\n",
      "creating jsonl file for  Rovers Strips\n",
      "creating jsonl file for  Rovers Time\n"
     ]
    }
   ],
   "source": [
    "# Create Batch no code\n",
    "path = \"data/IPC3/Tests1\"\n",
    "create_jsonl_batch(path, create_jsonl_format, \"prompt-only\")"
   ]
  },
  {
   "cell_type": "code",
   "execution_count": 29,
   "metadata": {},
   "outputs": [
    {
     "name": "stdout",
     "output_type": "stream",
     "text": [
      "creating jsonl file for  Depots Numeric\n",
      "creating jsonl file for  Depots SimpleTime\n",
      "creating jsonl file for  Depots Strips\n",
      "creating jsonl file for  Depots Time\n",
      "creating jsonl file for  DriverLog Numeric\n",
      "creating jsonl file for  DriverLog SimpleTime\n",
      "creating jsonl file for  DriverLog Strips\n",
      "creating jsonl file for  DriverLog Time\n",
      "creating jsonl file for  Rovers Numeric\n",
      "creating jsonl file for  Rovers SimpleTime\n",
      "creating jsonl file for  Rovers Strips\n",
      "creating jsonl file for  Rovers Time\n"
     ]
    }
   ],
   "source": [
    "# Batch with code\n",
    "path = \"data/IPC3/Tests1\"\n",
    "create_jsonl_batch(path, create_jsonl_format_code, \"prompt-and-code\")"
   ]
  },
  {
   "cell_type": "code",
   "execution_count": 14,
   "metadata": {},
   "outputs": [],
   "source": [
    "with open(\"EvaluationPipeline/OPENAI_KEY.json\", 'r') as json_file:\n",
    "        data = json.load(json_file)\n",
    "        client = OpenAI(api_key=data['openai_key'])"
   ]
  },
  {
   "cell_type": "code",
   "execution_count": 213,
   "metadata": {},
   "outputs": [
    {
     "name": "stdout",
     "output_type": "stream",
     "text": [
      "{'custom_id': 'Depots_Nu0_nl', 'method': 'POST', 'url': '/v1/chat/completions', 'body': {'model': 'gpt-4o', 'messages': [{'role': 'system', 'content': 'You are a PDDL domain creation expert, you modify domains based on requested changes.'}, {'role': 'user', 'content': 'Modify the following PDDL domain by \\nadding a load_limit to the truck. \\n\\nThis will require adding 3 functions: \\nload_limit per truck, current_load per truck and the weight per crate\\n\\nModify the load and unload actions accordingly\\n\\n\\n(define (domain Depot)\\n(:requirements :typing :fluents)\\n(:types place locatable - object\\n\\tdepot distributor - place\\n        truck hoist surface - locatable\\n        pallet crate - surface)\\n\\n(:predicates (at ?x - locatable ?y - place) \\n             (on ?x - crate ?y - surface)\\n             (in ?x - crate ?y - truck)\\n             (lifting ?x - hoist ?y - crate)\\n             (available ?x - hoist)\\n             (clear ?x - surface)\\n)\\n\\n(:functions  \\n\\t(fuel-cost)\\n)\\n\\t\\n(:action Drive\\n:parameters (?x - truck ?y - place ?z - place) \\n:precondition (and (at ?x ?y))\\n:effect (and (not (at ?x ?y)) (at ?x ?z)\\n\\t\\t(increase (fuel-cost) 10)))\\n\\n(:action Lift\\n:parameters (?x - hoist ?y - crate ?z - surface ?p - place)\\n:precondition (and (at ?x ?p) (available ?x) (at ?y ?p) (on ?y ?z) (clear ?y))\\n:effect (and (not (at ?y ?p)) (lifting ?x ?y) (not (clear ?y)) (not (available ?x)) \\n             (clear ?z) (not (on ?y ?z)) (increase (fuel-cost) 1)))\\n\\n(:action Drop \\n:parameters (?x - hoist ?y - crate ?z - surface ?p - place)\\n:precondition (and (at ?x ?p) (at ?z ?p) (clear ?z) (lifting ?x ?y))\\n:effect (and (available ?x) (not (lifting ?x ?y)) (at ?y ?p) (not (clear ?z)) (clear ?y)\\n\\t\\t(on ?y ?z)))\\n\\n(:action Load\\n:parameters (?x - hoist ?y - crate ?z - truck ?p - place)\\n:precondition (and (at ?x ?p) (at ?z ?p) (lifting ?x ?y))\\n:effect (and (not (lifting ?x ?y)) (in ?y ?z) (available ?x)))\\n\\n(:action Unload \\n:parameters (?x - hoist ?y - crate ?z - truck ?p - place)\\n:precondition (and (at ?x ?p) (at ?z ?p) (available ?x) (in ?y ?z))\\n:effect (and (not (in ?y ?z)) (not (available ?x)) (lifting ?x ?y)))\\n\\n)\\n'}], 'max_tokens': 3012, 'temperature': 1, 'top_p': 1}}\n",
      "{'custom_id': 'Depots_Nu1_nl', 'method': 'POST', 'url': '/v1/chat/completions', 'body': {'model': 'gpt-4o', 'messages': [{'role': 'system', 'content': 'You are a PDDL domain creation expert, you modify domains based on requested changes.'}, {'role': 'user', 'content': 'Modify the following PDDL domain\\nAdd fuel-cost tracking\\n\\nThis will require adding 1 function fuel-cost \\n\\nDriving will cost 10 fuel while using the Lift costs 1 fuel\\n\\n(define (domain Depot)\\n(:requirements :typing :fluents)\\n(:types place locatable - object\\n\\tdepot distributor - place\\n        truck hoist surface - locatable\\n        pallet crate - surface)\\n\\n(:predicates (at ?x - locatable ?y - place) \\n             (on ?x - crate ?y - surface)\\n             (in ?x - crate ?y - truck)\\n             (lifting ?x - hoist ?y - crate)\\n             (available ?x - hoist)\\n             (clear ?x - surface)\\n)\\n\\n(:functions \\n\\t(load_limit ?t - truck) \\n\\t(current_load ?t - truck) \\n\\t(weight ?c - crate)\\n)\\n\\t\\n(:action Drive\\n:parameters (?x - truck ?y - place ?z - place) \\n:precondition (and (at ?x ?y))\\n:effect (and (not (at ?x ?y)) (at ?x ?z)))\\n\\n(:action Lift\\n:parameters (?x - hoist ?y - crate ?z - surface ?p - place)\\n:precondition (and (at ?x ?p) (available ?x) (at ?y ?p) (on ?y ?z) (clear ?y))\\n:effect (and (not (at ?y ?p)) (lifting ?x ?y) (not (clear ?y)) (not (available ?x)) \\n             (clear ?z) (not (on ?y ?z))))\\n\\n(:action Drop \\n:parameters (?x - hoist ?y - crate ?z - surface ?p - place)\\n:precondition (and (at ?x ?p) (at ?z ?p) (clear ?z) (lifting ?x ?y))\\n:effect (and (available ?x) (not (lifting ?x ?y)) (at ?y ?p) (not (clear ?z)) (clear ?y)\\n\\t\\t(on ?y ?z)))\\n\\n(:action Load\\n:parameters (?x - hoist ?y - crate ?z - truck ?p - place)\\n:precondition (and (at ?x ?p) (at ?z ?p) (lifting ?x ?y)\\n\\t\\t(<= (+ (current_load ?z) (weight ?y)) (load_limit ?z)))\\n:effect (and (not (lifting ?x ?y)) (in ?y ?z) (available ?x)\\n\\t\\t(increase (current_load ?z) (weight ?y))))\\n\\n(:action Unload \\n:parameters (?x - hoist ?y - crate ?z - truck ?p - place)\\n:precondition (and (at ?x ?p) (at ?z ?p) (available ?x) (in ?y ?z))\\n:effect (and (not (in ?y ?z)) (not (available ?x)) (lifting ?x ?y)\\n\\t\\t(decrease (current_load ?z) (weight ?y))))\\n\\n)\\n'}], 'max_tokens': 3012, 'temperature': 1, 'top_p': 1}}\n",
      "{'custom_id': 'Depots_Nu2_nl', 'method': 'POST', 'url': '/v1/chat/completions', 'body': {'model': 'gpt-4o', 'messages': [{'role': 'system', 'content': 'You are a PDDL domain creation expert, you modify domains based on requested changes.'}, {'role': 'user', 'content': 'Modify the following PDDL\\nRemove the fuel consumption concept\\n\\nThis modification will require removing 3 functions: fuel-tank, current-fuel and distance\\n\\nModify the actions accordingly\\n\\n(define (domain Depot)\\n(:requirements :typing :fluents)\\n(:types place locatable - object\\n\\tdepot distributor - place\\n    truck hoist surface - locatable\\n    pallet crate - surface)\\n\\n(:predicates (at ?x - locatable ?y - place) \\n             (on ?x - crate ?y - surface)\\n             (in ?x - crate ?y - truck)\\n             (lifting ?x - hoist ?y - crate)\\n             (available ?x - hoist)\\n             (clear ?x - surface)\\n             (fuel-available ?x - truck) ; predicate indicating if the truck has fuel\\n)\\n\\n(:functions \\n\\t(load_limit ?t - truck) \\n\\t(current_load ?t - truck) \\n\\t(weight ?c - crate)\\n\\t(fuel-cost)\\n    (fuel-tank ?t - truck) ; maximum fuel capacity of the truck\\n    (current-fuel ?t - truck) ; current fuel level of the truck\\n    (distance ?y ?z - place) ; distance between places\\n)\\n\\n(:action Drive\\n:parameters (?x - truck ?y - place ?z - place) \\n:precondition (and (at ?x ?y) (>= (current-fuel ?x) (* (distance ?y ?z) (+ 1 (current_load ?x)))))\\n:effect (and (not (at ?x ?y)) (at ?x ?z)\\n             (decrease (current-fuel ?x) (* (distance ?y ?z) (+ 1 (current_load ?x))))\\n             (increase (fuel-cost) (* (distance ?y ?z) (+ 1 (current_load ?x))))))\\n\\n(:action Refuel\\n:parameters (?x - truck ?p - place)\\n:precondition (at ?x ?p)\\n:effect (assign (current-fuel ?x) (fuel-tank ?x)))\\n\\n(:action Lift\\n:parameters (?x - hoist ?y - crate ?z - surface ?p - place)\\n:precondition (and (at ?x ?p) (available ?x) (at ?y ?p) (on ?y ?z) (clear ?y))\\n:effect (and (not (at ?y ?p)) (lifting ?x ?y) (not (clear ?y)) (not (available ?x)) \\n             (clear ?z) (not (on ?y ?z)) (increase (fuel-cost) 1)))\\n\\n(:action Drop \\n:parameters (?x - hoist ?y - crate ?z - surface ?p - place)\\n:precondition (and (at ?x ?p) (at ?z ?p) (clear ?z) (lifting ?x ?y))\\n:effect (and (available ?x) (not (lifting ?x ?y)) (at ?y ?p) (not (clear ?z)) (clear ?y)\\n\\t\\t(on ?y ?z)))\\n\\n(:action Load\\n:parameters (?x - hoist ?y - crate ?z - truck ?p - place)\\n:precondition (and (at ?x ?p) (at ?z ?p) (lifting ?x ?y)\\n\\t\\t(<= (+ (current_load ?z) (weight ?y)) (load_limit ?z)))\\n:effect (and (not (lifting ?x ?y)) (in ?y ?z) (available ?x)\\n\\t\\t(increase (current_load ?z) (weight ?y))))\\n\\n(:action Unload \\n:parameters (?x - hoist ?y - crate ?z - truck ?p - place)\\n:precondition (and (at ?x ?p) (at ?z ?p) (available ?x) (in ?y ?z))\\n:effect (and (not (in ?y ?z)) (not (available ?x)) (lifting ?x ?y)\\n\\t\\t(decrease (current_load ?z) (weight ?y))))\\n\\n)\\n\\n'}], 'max_tokens': 3012, 'temperature': 1, 'top_p': 1}}\n",
      "{'custom_id': 'Depots_Nu3_nl', 'method': 'POST', 'url': '/v1/chat/completions', 'body': {'model': 'gpt-4o', 'messages': [{'role': 'system', 'content': 'You are a PDDL domain creation expert, you modify domains based on requested changes.'}, {'role': 'user', 'content': 'Modify the following PDDL domain \\nAdd the ability to drive from one location to another\\n\\nThe drive action increases the fuel cost by 10\\n\\n(define (domain Depot)\\n(:requirements :typing :fluents)\\n(:types place locatable - object\\n\\tdepot distributor - place\\n        truck hoist surface - locatable\\n        pallet crate - surface)\\n\\n(:predicates (at ?x - locatable ?y - place) \\n             (on ?x - crate ?y - surface)\\n             (in ?x - crate ?y - truck)\\n             (lifting ?x - hoist ?y - crate)\\n             (available ?x - hoist)\\n             (clear ?x - surface)\\n)\\n\\n(:functions \\n\\t(load_limit ?t - truck) \\n\\t(current_load ?t - truck) \\n\\t(weight ?c - crate)\\n\\t(fuel-cost)\\n)\\n\\n(:action Lift\\n:parameters (?x - hoist ?y - crate ?z - surface ?p - place)\\n:precondition (and (at ?x ?p) (available ?x) (at ?y ?p) (on ?y ?z) (clear ?y))\\n:effect (and (not (at ?y ?p)) (lifting ?x ?y) (not (clear ?y)) (not (available ?x)) \\n             (clear ?z) (not (on ?y ?z)) (increase (fuel-cost) 1)))\\n\\n(:action Drop \\n:parameters (?x - hoist ?y - crate ?z - surface ?p - place)\\n:precondition (and (at ?x ?p) (at ?z ?p) (clear ?z) (lifting ?x ?y))\\n:effect (and (available ?x) (not (lifting ?x ?y)) (at ?y ?p) (not (clear ?z)) (clear ?y)\\n\\t\\t(on ?y ?z)))\\n\\n(:action Load\\n:parameters (?x - hoist ?y - crate ?z - truck ?p - place)\\n:precondition (and (at ?x ?p) (at ?z ?p) (lifting ?x ?y)\\n\\t\\t(<= (+ (current_load ?z) (weight ?y)) (load_limit ?z)))\\n:effect (and (not (lifting ?x ?y)) (in ?y ?z) (available ?x)\\n\\t\\t(increase (current_load ?z) (weight ?y))))\\n\\n(:action Unload \\n:parameters (?x - hoist ?y - crate ?z - truck ?p - place)\\n:precondition (and (at ?x ?p) (at ?z ?p) (available ?x) (in ?y ?z))\\n:effect (and (not (in ?y ?z)) (not (available ?x)) (lifting ?x ?y)\\n\\t\\t(decrease (current_load ?z) (weight ?y))))\\n\\n)\\n'}], 'max_tokens': 3012, 'temperature': 1, 'top_p': 1}}\n",
      "{'custom_id': 'Depots_Nu4_nl', 'method': 'POST', 'url': '/v1/chat/completions', 'body': {'model': 'gpt-4o', 'messages': [{'role': 'system', 'content': 'You are a PDDL domain creation expert, you modify domains based on requested changes.'}, {'role': 'user', 'content': 'Modify the following PDDL domain\\nAdd lift and drop actions\\n\\nThis will require adding the lifting predicate to indicate the hoist lifting the crate as well as a Lift and Drop action\\n\\nThe Lift action will increase the fuel-cost by 1.\\n\\nReview and understand the logic of the domain and create the actions accordingly\\n\\n(define (domain Depot)\\n(:requirements :typing :fluents)\\n(:types place locatable - object\\n\\tdepot distributor - place\\n        truck hoist surface - locatable\\n        pallet crate - surface)\\n\\n(:predicates (at ?x - locatable ?y - place) \\n             (on ?x - crate ?y - surface)\\n             (in ?x - crate ?y - truck)\\n             (available ?x - hoist)\\n             (clear ?x - surface)\\n)\\n\\n(:functions \\n\\t(load_limit ?t - truck) \\n\\t(current_load ?t - truck) \\n\\t(weight ?c - crate)\\n\\t(fuel-cost)\\n)\\n\\t\\n(:action Drive\\n:parameters (?x - truck ?y - place ?z - place) \\n:precondition (and (at ?x ?y))\\n:effect (and (not (at ?x ?y)) (at ?x ?z)\\n\\t\\t(increase (fuel-cost) 10)))\\n\\n(:action Load\\n:parameters (?x - hoist ?y - crate ?z - truck ?p - place)\\n:precondition (and (at ?x ?p) (at ?z ?p) (available ?x)\\n\\t\\t(<= (+ (current_load ?z) (weight ?y)) (load_limit ?z)))\\n:effect (and (in ?y ?z) (available ?x)\\n\\t\\t(increase (current_load ?z) (weight ?y))))\\n\\n(:action Unload \\n:parameters (?x - hoist ?y - crate ?z - truck ?p - place)\\n:precondition (and (at ?x ?p) (at ?z ?p) (available ?x) (in ?y ?z))\\n:effect (and (not (in ?y ?z)) (available ?x)\\n\\t\\t(decrease (current_load ?z) (weight ?y))))\\n\\n)'}], 'max_tokens': 3012, 'temperature': 1, 'top_p': 1}}\n"
     ]
    }
   ],
   "source": [
    "with open(\"results/batch-prompt-only.jsonl\", \"r\") as file:\n",
    "    batch = file.readlines()\n",
    "    batch = [json.loads(line) for line in batch]\n",
    "for i in range(5):\n",
    "    print(batch[i])"
   ]
  },
  {
   "cell_type": "code",
   "execution_count": 30,
   "metadata": {},
   "outputs": [
    {
     "name": "stdout",
     "output_type": "stream",
     "text": [
      "{'custom_id': 'Depots_Nu_code0', 'method': 'POST', 'url': '/v1/chat/completions', 'body': {'model': 'gpt-4o', 'messages': [{'role': 'system', 'content': 'You are a PDDL domain creation expert, you modify provided domains to make them executable based on the codebase.'}, {'role': 'user', 'content': 'Modify the following domain based on the given code so that all the functions in the code match the actions of the domain taking into effect preconditions and effects.\\n\\n(define (domain Depot)\\n(:requirements :typing :fluents)\\n(:types place locatable - object\\n\\tdepot distributor - place\\n        truck hoist surface - locatable\\n        pallet crate - surface)\\n\\n(:predicates (at ?x - locatable ?y - place) \\n             (on ?x - crate ?y - surface)\\n             (in ?x - crate ?y - truck)\\n             (lifting ?x - hoist ?y - crate)\\n             (available ?x - hoist)\\n             (clear ?x - surface)\\n)\\n\\n(:functions  \\n\\t(fuel-cost)\\n)\\n\\t\\n(:action Drive\\n:parameters (?x - truck ?y - place ?z - place) \\n:precondition (and (at ?x ?y))\\n:effect (and (not (at ?x ?y)) (at ?x ?z)\\n\\t\\t(increase (fuel-cost) 10)))\\n\\n(:action Lift\\n:parameters (?x - hoist ?y - crate ?z - surface ?p - place)\\n:precondition (and (at ?x ?p) (available ?x) (at ?y ?p) (on ?y ?z) (clear ?y))\\n:effect (and (not (at ?y ?p)) (lifting ?x ?y) (not (clear ?y)) (not (available ?x)) \\n             (clear ?z) (not (on ?y ?z)) (increase (fuel-cost) 1)))\\n\\n(:action Drop \\n:parameters (?x - hoist ?y - crate ?z - surface ?p - place)\\n:precondition (and (at ?x ?p) (at ?z ?p) (clear ?z) (lifting ?x ?y))\\n:effect (and (available ?x) (not (lifting ?x ?y)) (at ?y ?p) (not (clear ?z)) (clear ?y)\\n\\t\\t(on ?y ?z)))\\n\\n(:action Load\\n:parameters (?x - hoist ?y - crate ?z - truck ?p - place)\\n:precondition (and (at ?x ?p) (at ?z ?p) (lifting ?x ?y))\\n:effect (and (not (lifting ?x ?y)) (in ?y ?z) (available ?x)))\\n\\n(:action Unload \\n:parameters (?x - hoist ?y - crate ?z - truck ?p - place)\\n:precondition (and (at ?x ?p) (at ?z ?p) (available ?x) (in ?y ?z))\\n:effect (and (not (in ?y ?z)) (not (available ?x)) (lifting ?x ?y)))\\n\\n)\\n\\n\\nThe following is the executable code for the domain:\\n\\nimport depot\\n\\nclass DepotWrapper(depot):\\n    def __init__(self, client):\\n        self.depot = depot(client)\\n        \\n    def Drive(self, truck, place1, place2):\\n        assert truck.at == place1\\n        \\n        truck.at = place2\\n        self.depot.fuel_cost += 10\\n        \\n        self.depot.drive(truck, place2)\\n    \\n    def Lift(self, hoist, crate, surface, place):\\n        assert hoist.at == place\\n        assert hoist.available\\n        assert crate.at == place\\n        assert crate.on == surface\\n        assert crate.clear\\n        \\n        crate.clear = False\\n        crate.on = None\\n        crate.at = None\\n        hoist.available = False\\n        hoist.lifting = crate\\n        surface.clear = True\\n        self.depot.fuel_cost += 1\\n        \\n        self.depot.lift(hoist, crate)\\n    \\n    def Drop(self, hoist, crate, surface, place):\\n        assert hoist.at == place\\n        assert hoist.lifting == crate\\n        assert surface.at == place\\n        assert surface.clear\\n        \\n        hoist.lifting = None\\n        hoist.available = True\\n        crate.at = place\\n        crate.on = surface\\n        crate.clear = True\\n        surface.clear = False\\n        \\n        self.depot.drop(hoist, crate)\\n        \\n    def Load(self, hoist, crate, truck, place):\\n        assert hoist.at == place\\n        assert hoist.lifting == crate\\n        assert truck.at == place\\n        assert truck.load <= (crate.weight + truck.load_limit)\\n        \\n        crate.inside = truck\\n        hoist.available = False\\n        hoist.lifting = None\\n        truck.load += crate.weight\\n        \\n        self.depot.load(hoist, crate, truck)\\n    \\n    def Unload(self, hoist, crate, truck, place):\\n        assert hoist.at == place\\n        assert hoist.available\\n        assert crate.inside == truck\\n        assert truck.at == place\\n        \\n        crate.inside = None\\n        hoist.available = False\\n        hoist.lifting = crate\\n        truck.load -= crate.weight\\n        \\n        self.depot.unload(hoist, crate, truck)\\n        '}], 'max_tokens': 4000, 'temperature': 1, 'top_p': 1}}\n",
      "{'custom_id': 'Depots_Nu_code1', 'method': 'POST', 'url': '/v1/chat/completions', 'body': {'model': 'gpt-4o', 'messages': [{'role': 'system', 'content': 'You are a PDDL domain creation expert, you modify provided domains to make them executable based on the codebase.'}, {'role': 'user', 'content': 'Modify the following domain based on the given code so that all the functions in the code match the actions of the domain taking into effect preconditions and effects.\\n\\n(define (domain Depot)\\n(:requirements :typing :fluents)\\n(:types place locatable - object\\n\\tdepot distributor - place\\n        truck hoist surface - locatable\\n        pallet crate - surface)\\n\\n(:predicates (at ?x - locatable ?y - place) \\n             (on ?x - crate ?y - surface)\\n             (in ?x - crate ?y - truck)\\n             (lifting ?x - hoist ?y - crate)\\n             (available ?x - hoist)\\n             (clear ?x - surface)\\n)\\n\\n(:functions \\n\\t(load_limit ?t - truck) \\n\\t(current_load ?t - truck) \\n\\t(weight ?c - crate)\\n)\\n\\t\\n(:action Drive\\n:parameters (?x - truck ?y - place ?z - place) \\n:precondition (and (at ?x ?y))\\n:effect (and (not (at ?x ?y)) (at ?x ?z)))\\n\\n(:action Lift\\n:parameters (?x - hoist ?y - crate ?z - surface ?p - place)\\n:precondition (and (at ?x ?p) (available ?x) (at ?y ?p) (on ?y ?z) (clear ?y))\\n:effect (and (not (at ?y ?p)) (lifting ?x ?y) (not (clear ?y)) (not (available ?x)) \\n             (clear ?z) (not (on ?y ?z))))\\n\\n(:action Drop \\n:parameters (?x - hoist ?y - crate ?z - surface ?p - place)\\n:precondition (and (at ?x ?p) (at ?z ?p) (clear ?z) (lifting ?x ?y))\\n:effect (and (available ?x) (not (lifting ?x ?y)) (at ?y ?p) (not (clear ?z)) (clear ?y)\\n\\t\\t(on ?y ?z)))\\n\\n(:action Load\\n:parameters (?x - hoist ?y - crate ?z - truck ?p - place)\\n:precondition (and (at ?x ?p) (at ?z ?p) (lifting ?x ?y)\\n\\t\\t(<= (+ (current_load ?z) (weight ?y)) (load_limit ?z)))\\n:effect (and (not (lifting ?x ?y)) (in ?y ?z) (available ?x)\\n\\t\\t(increase (current_load ?z) (weight ?y))))\\n\\n(:action Unload \\n:parameters (?x - hoist ?y - crate ?z - truck ?p - place)\\n:precondition (and (at ?x ?p) (at ?z ?p) (available ?x) (in ?y ?z))\\n:effect (and (not (in ?y ?z)) (not (available ?x)) (lifting ?x ?y)\\n\\t\\t(decrease (current_load ?z) (weight ?y))))\\n\\n)\\n\\n\\nThe following is the executable code for the domain:\\n\\nimport depot\\n\\nclass DepotWrapper(depot):\\n    def __init__(self, client):\\n        self.depot = depot(client)\\n        \\n    def Drive(self, truck, place1, place2):\\n        assert truck.at == place1\\n        \\n        truck.at = place2\\n        self.depot.fuel_cost += 10\\n        \\n        self.depot.drive(truck, place2)\\n    \\n    def Lift(self, hoist, crate, surface, place):\\n        assert hoist.at == place\\n        assert hoist.available\\n        assert crate.at == place\\n        assert crate.on == surface\\n        assert crate.clear\\n        \\n        crate.clear = False\\n        crate.on = None\\n        crate.at = None\\n        hoist.available = False\\n        hoist.lifting = crate\\n        surface.clear = True\\n        self.depot.fuel_cost += 1\\n        \\n        self.depot.lift(hoist, crate)\\n    \\n    def Drop(self, hoist, crate, surface, place):\\n        assert hoist.at == place\\n        assert hoist.lifting == crate\\n        assert surface.at == place\\n        assert surface.clear\\n        \\n        hoist.lifting = None\\n        hoist.available = True\\n        crate.at = place\\n        crate.on = surface\\n        crate.clear = True\\n        surface.clear = False\\n        \\n        self.depot.drop(hoist, crate)\\n        \\n    def Load(self, hoist, crate, truck, place):\\n        assert hoist.at == place\\n        assert hoist.lifting == crate\\n        assert truck.at == place\\n        assert truck.load <= (crate.weight + truck.load_limit)\\n        \\n        crate.inside = truck\\n        hoist.available = False\\n        hoist.lifting = None\\n        truck.load += crate.weight\\n        \\n        self.depot.load(hoist, crate, truck)\\n    \\n    def Unload(self, hoist, crate, truck, place):\\n        assert hoist.at == place\\n        assert hoist.available\\n        assert crate.inside == truck\\n        assert truck.at == place\\n        \\n        crate.inside = None\\n        hoist.available = False\\n        hoist.lifting = crate\\n        truck.load -= crate.weight\\n        \\n        self.depot.unload(hoist, crate, truck)\\n        '}], 'max_tokens': 4000, 'temperature': 1, 'top_p': 1}}\n",
      "{'custom_id': 'Depots_Nu_code2', 'method': 'POST', 'url': '/v1/chat/completions', 'body': {'model': 'gpt-4o', 'messages': [{'role': 'system', 'content': 'You are a PDDL domain creation expert, you modify provided domains to make them executable based on the codebase.'}, {'role': 'user', 'content': 'Modify the following domain based on the given code so that all the functions in the code match the actions of the domain taking into effect preconditions and effects.\\n\\n(define (domain Depot)\\n(:requirements :typing :fluents)\\n(:types place locatable - object\\n\\tdepot distributor - place\\n    truck hoist surface - locatable\\n    pallet crate - surface)\\n\\n(:predicates (at ?x - locatable ?y - place) \\n             (on ?x - crate ?y - surface)\\n             (in ?x - crate ?y - truck)\\n             (lifting ?x - hoist ?y - crate)\\n             (available ?x - hoist)\\n             (clear ?x - surface)\\n             (fuel-available ?x - truck) ; predicate indicating if the truck has fuel\\n)\\n\\n(:functions \\n\\t(load_limit ?t - truck) \\n\\t(current_load ?t - truck) \\n\\t(weight ?c - crate)\\n\\t(fuel-cost)\\n    (fuel-tank ?t - truck) ; maximum fuel capacity of the truck\\n    (current-fuel ?t - truck) ; current fuel level of the truck\\n    (distance ?y ?z - place) ; distance between places\\n)\\n\\n(:action Drive\\n:parameters (?x - truck ?y - place ?z - place) \\n:precondition (and (at ?x ?y) (>= (current-fuel ?x) (* (distance ?y ?z) (+ 1 (current_load ?x)))))\\n:effect (and (not (at ?x ?y)) (at ?x ?z)\\n             (decrease (current-fuel ?x) (* (distance ?y ?z) (+ 1 (current_load ?x))))\\n             (increase (fuel-cost) (* (distance ?y ?z) (+ 1 (current_load ?x))))))\\n\\n(:action Refuel\\n:parameters (?x - truck ?p - place)\\n:precondition (at ?x ?p)\\n:effect (assign (current-fuel ?x) (fuel-tank ?x)))\\n\\n(:action Lift\\n:parameters (?x - hoist ?y - crate ?z - surface ?p - place)\\n:precondition (and (at ?x ?p) (available ?x) (at ?y ?p) (on ?y ?z) (clear ?y))\\n:effect (and (not (at ?y ?p)) (lifting ?x ?y) (not (clear ?y)) (not (available ?x)) \\n             (clear ?z) (not (on ?y ?z)) (increase (fuel-cost) 1)))\\n\\n(:action Drop \\n:parameters (?x - hoist ?y - crate ?z - surface ?p - place)\\n:precondition (and (at ?x ?p) (at ?z ?p) (clear ?z) (lifting ?x ?y))\\n:effect (and (available ?x) (not (lifting ?x ?y)) (at ?y ?p) (not (clear ?z)) (clear ?y)\\n\\t\\t(on ?y ?z)))\\n\\n(:action Load\\n:parameters (?x - hoist ?y - crate ?z - truck ?p - place)\\n:precondition (and (at ?x ?p) (at ?z ?p) (lifting ?x ?y)\\n\\t\\t(<= (+ (current_load ?z) (weight ?y)) (load_limit ?z)))\\n:effect (and (not (lifting ?x ?y)) (in ?y ?z) (available ?x)\\n\\t\\t(increase (current_load ?z) (weight ?y))))\\n\\n(:action Unload \\n:parameters (?x - hoist ?y - crate ?z - truck ?p - place)\\n:precondition (and (at ?x ?p) (at ?z ?p) (available ?x) (in ?y ?z))\\n:effect (and (not (in ?y ?z)) (not (available ?x)) (lifting ?x ?y)\\n\\t\\t(decrease (current_load ?z) (weight ?y))))\\n\\n)\\n\\n\\n\\nThe following is the executable code for the domain:\\n\\nimport depot\\n\\nclass DepotWrapper(depot):\\n    def __init__(self, client):\\n        self.depot = depot(client)\\n        \\n    def Drive(self, truck, place1, place2):\\n        assert truck.at == place1\\n        \\n        truck.at = place2\\n        self.depot.fuel_cost += 10\\n        \\n        self.depot.drive(truck, place2)\\n    \\n    def Lift(self, hoist, crate, surface, place):\\n        assert hoist.at == place\\n        assert hoist.available\\n        assert crate.at == place\\n        assert crate.on == surface\\n        assert crate.clear\\n        \\n        crate.clear = False\\n        crate.on = None\\n        crate.at = None\\n        hoist.available = False\\n        hoist.lifting = crate\\n        surface.clear = True\\n        self.depot.fuel_cost += 1\\n        \\n        self.depot.lift(hoist, crate)\\n    \\n    def Drop(self, hoist, crate, surface, place):\\n        assert hoist.at == place\\n        assert hoist.lifting == crate\\n        assert surface.at == place\\n        assert surface.clear\\n        \\n        hoist.lifting = None\\n        hoist.available = True\\n        crate.at = place\\n        crate.on = surface\\n        crate.clear = True\\n        surface.clear = False\\n        \\n        self.depot.drop(hoist, crate)\\n        \\n    def Load(self, hoist, crate, truck, place):\\n        assert hoist.at == place\\n        assert hoist.lifting == crate\\n        assert truck.at == place\\n        assert truck.load <= (crate.weight + truck.load_limit)\\n        \\n        crate.inside = truck\\n        hoist.available = False\\n        hoist.lifting = None\\n        truck.load += crate.weight\\n        \\n        self.depot.load(hoist, crate, truck)\\n    \\n    def Unload(self, hoist, crate, truck, place):\\n        assert hoist.at == place\\n        assert hoist.available\\n        assert crate.inside == truck\\n        assert truck.at == place\\n        \\n        crate.inside = None\\n        hoist.available = False\\n        hoist.lifting = crate\\n        truck.load -= crate.weight\\n        \\n        self.depot.unload(hoist, crate, truck)\\n        '}], 'max_tokens': 4000, 'temperature': 1, 'top_p': 1}}\n",
      "{'custom_id': 'Depots_Nu_code3', 'method': 'POST', 'url': '/v1/chat/completions', 'body': {'model': 'gpt-4o', 'messages': [{'role': 'system', 'content': 'You are a PDDL domain creation expert, you modify provided domains to make them executable based on the codebase.'}, {'role': 'user', 'content': 'Modify the following domain based on the given code so that all the functions in the code match the actions of the domain taking into effect preconditions and effects.\\n\\n(define (domain Depot)\\n(:requirements :typing :fluents)\\n(:types place locatable - object\\n\\tdepot distributor - place\\n        truck hoist surface - locatable\\n        pallet crate - surface)\\n\\n(:predicates (at ?x - locatable ?y - place) \\n             (on ?x - crate ?y - surface)\\n             (in ?x - crate ?y - truck)\\n             (lifting ?x - hoist ?y - crate)\\n             (available ?x - hoist)\\n             (clear ?x - surface)\\n)\\n\\n(:functions \\n\\t(load_limit ?t - truck) \\n\\t(current_load ?t - truck) \\n\\t(weight ?c - crate)\\n\\t(fuel-cost)\\n)\\n\\n(:action Lift\\n:parameters (?x - hoist ?y - crate ?z - surface ?p - place)\\n:precondition (and (at ?x ?p) (available ?x) (at ?y ?p) (on ?y ?z) (clear ?y))\\n:effect (and (not (at ?y ?p)) (lifting ?x ?y) (not (clear ?y)) (not (available ?x)) \\n             (clear ?z) (not (on ?y ?z)) (increase (fuel-cost) 1)))\\n\\n(:action Drop \\n:parameters (?x - hoist ?y - crate ?z - surface ?p - place)\\n:precondition (and (at ?x ?p) (at ?z ?p) (clear ?z) (lifting ?x ?y))\\n:effect (and (available ?x) (not (lifting ?x ?y)) (at ?y ?p) (not (clear ?z)) (clear ?y)\\n\\t\\t(on ?y ?z)))\\n\\n(:action Load\\n:parameters (?x - hoist ?y - crate ?z - truck ?p - place)\\n:precondition (and (at ?x ?p) (at ?z ?p) (lifting ?x ?y)\\n\\t\\t(<= (+ (current_load ?z) (weight ?y)) (load_limit ?z)))\\n:effect (and (not (lifting ?x ?y)) (in ?y ?z) (available ?x)\\n\\t\\t(increase (current_load ?z) (weight ?y))))\\n\\n(:action Unload \\n:parameters (?x - hoist ?y - crate ?z - truck ?p - place)\\n:precondition (and (at ?x ?p) (at ?z ?p) (available ?x) (in ?y ?z))\\n:effect (and (not (in ?y ?z)) (not (available ?x)) (lifting ?x ?y)\\n\\t\\t(decrease (current_load ?z) (weight ?y))))\\n\\n)\\n\\n\\nThe following is the executable code for the domain:\\n\\nimport depot\\n\\nclass DepotWrapper(depot):\\n    def __init__(self, client):\\n        self.depot = depot(client)\\n        \\n    def Drive(self, truck, place1, place2):\\n        assert truck.at == place1\\n        \\n        truck.at = place2\\n        self.depot.fuel_cost += 10\\n        \\n        self.depot.drive(truck, place2)\\n    \\n    def Lift(self, hoist, crate, surface, place):\\n        assert hoist.at == place\\n        assert hoist.available\\n        assert crate.at == place\\n        assert crate.on == surface\\n        assert crate.clear\\n        \\n        crate.clear = False\\n        crate.on = None\\n        crate.at = None\\n        hoist.available = False\\n        hoist.lifting = crate\\n        surface.clear = True\\n        self.depot.fuel_cost += 1\\n        \\n        self.depot.lift(hoist, crate)\\n    \\n    def Drop(self, hoist, crate, surface, place):\\n        assert hoist.at == place\\n        assert hoist.lifting == crate\\n        assert surface.at == place\\n        assert surface.clear\\n        \\n        hoist.lifting = None\\n        hoist.available = True\\n        crate.at = place\\n        crate.on = surface\\n        crate.clear = True\\n        surface.clear = False\\n        \\n        self.depot.drop(hoist, crate)\\n        \\n    def Load(self, hoist, crate, truck, place):\\n        assert hoist.at == place\\n        assert hoist.lifting == crate\\n        assert truck.at == place\\n        assert truck.load <= (crate.weight + truck.load_limit)\\n        \\n        crate.inside = truck\\n        hoist.available = False\\n        hoist.lifting = None\\n        truck.load += crate.weight\\n        \\n        self.depot.load(hoist, crate, truck)\\n    \\n    def Unload(self, hoist, crate, truck, place):\\n        assert hoist.at == place\\n        assert hoist.available\\n        assert crate.inside == truck\\n        assert truck.at == place\\n        \\n        crate.inside = None\\n        hoist.available = False\\n        hoist.lifting = crate\\n        truck.load -= crate.weight\\n        \\n        self.depot.unload(hoist, crate, truck)\\n        '}], 'max_tokens': 4000, 'temperature': 1, 'top_p': 1}}\n",
      "{'custom_id': 'Depots_Nu_code4', 'method': 'POST', 'url': '/v1/chat/completions', 'body': {'model': 'gpt-4o', 'messages': [{'role': 'system', 'content': 'You are a PDDL domain creation expert, you modify provided domains to make them executable based on the codebase.'}, {'role': 'user', 'content': 'Modify the following domain based on the given code so that all the functions in the code match the actions of the domain taking into effect preconditions and effects.\\n\\n(define (domain Depot)\\n(:requirements :typing :fluents)\\n(:types place locatable - object\\n\\tdepot distributor - place\\n        truck hoist surface - locatable\\n        pallet crate - surface)\\n\\n(:predicates (at ?x - locatable ?y - place) \\n             (on ?x - crate ?y - surface)\\n             (in ?x - crate ?y - truck)\\n             (available ?x - hoist)\\n             (clear ?x - surface)\\n)\\n\\n(:functions \\n\\t(load_limit ?t - truck) \\n\\t(current_load ?t - truck) \\n\\t(weight ?c - crate)\\n\\t(fuel-cost)\\n)\\n\\t\\n(:action Drive\\n:parameters (?x - truck ?y - place ?z - place) \\n:precondition (and (at ?x ?y))\\n:effect (and (not (at ?x ?y)) (at ?x ?z)\\n\\t\\t(increase (fuel-cost) 10)))\\n\\n(:action Load\\n:parameters (?x - hoist ?y - crate ?z - truck ?p - place)\\n:precondition (and (at ?x ?p) (at ?z ?p) (available ?x)\\n\\t\\t(<= (+ (current_load ?z) (weight ?y)) (load_limit ?z)))\\n:effect (and (in ?y ?z) (available ?x)\\n\\t\\t(increase (current_load ?z) (weight ?y))))\\n\\n(:action Unload \\n:parameters (?x - hoist ?y - crate ?z - truck ?p - place)\\n:precondition (and (at ?x ?p) (at ?z ?p) (available ?x) (in ?y ?z))\\n:effect (and (not (in ?y ?z)) (available ?x)\\n\\t\\t(decrease (current_load ?z) (weight ?y))))\\n\\n)\\n\\nThe following is the executable code for the domain:\\n\\nimport depot\\n\\nclass DepotWrapper(depot):\\n    def __init__(self, client):\\n        self.depot = depot(client)\\n        \\n    def Drive(self, truck, place1, place2):\\n        assert truck.at == place1\\n        \\n        truck.at = place2\\n        self.depot.fuel_cost += 10\\n        \\n        self.depot.drive(truck, place2)\\n    \\n    def Lift(self, hoist, crate, surface, place):\\n        assert hoist.at == place\\n        assert hoist.available\\n        assert crate.at == place\\n        assert crate.on == surface\\n        assert crate.clear\\n        \\n        crate.clear = False\\n        crate.on = None\\n        crate.at = None\\n        hoist.available = False\\n        hoist.lifting = crate\\n        surface.clear = True\\n        self.depot.fuel_cost += 1\\n        \\n        self.depot.lift(hoist, crate)\\n    \\n    def Drop(self, hoist, crate, surface, place):\\n        assert hoist.at == place\\n        assert hoist.lifting == crate\\n        assert surface.at == place\\n        assert surface.clear\\n        \\n        hoist.lifting = None\\n        hoist.available = True\\n        crate.at = place\\n        crate.on = surface\\n        crate.clear = True\\n        surface.clear = False\\n        \\n        self.depot.drop(hoist, crate)\\n        \\n    def Load(self, hoist, crate, truck, place):\\n        assert hoist.at == place\\n        assert hoist.lifting == crate\\n        assert truck.at == place\\n        assert truck.load <= (crate.weight + truck.load_limit)\\n        \\n        crate.inside = truck\\n        hoist.available = False\\n        hoist.lifting = None\\n        truck.load += crate.weight\\n        \\n        self.depot.load(hoist, crate, truck)\\n    \\n    def Unload(self, hoist, crate, truck, place):\\n        assert hoist.at == place\\n        assert hoist.available\\n        assert crate.inside == truck\\n        assert truck.at == place\\n        \\n        crate.inside = None\\n        hoist.available = False\\n        hoist.lifting = crate\\n        truck.load -= crate.weight\\n        \\n        self.depot.unload(hoist, crate, truck)\\n        '}], 'max_tokens': 4000, 'temperature': 1, 'top_p': 1}}\n"
     ]
    }
   ],
   "source": [
    "with open(\"results/batch-prompt-and-code.jsonl\", \"r\") as file:\n",
    "    batch = file.readlines()\n",
    "    batch = [json.loads(line) for line in batch]\n",
    "for i in range(5):\n",
    "    print(batch[i])"
   ]
  },
  {
   "cell_type": "code",
   "execution_count": 31,
   "metadata": {},
   "outputs": [
    {
     "name": "stdout",
     "output_type": "stream",
     "text": [
      "Batch file uploaded successfully\n"
     ]
    }
   ],
   "source": [
    "#Upload batch data to openai\n",
    "#batch_file_input = upload_batch(client, \"batch-prompt-only.jsonl\")\n",
    "batch_file_input = upload_batch(client, \"results/batch-prompt-and-code.jsonl\")"
   ]
  },
  {
   "cell_type": "code",
   "execution_count": 32,
   "metadata": {},
   "outputs": [
    {
     "data": {
      "text/plain": [
       "'file-aZZJl14iAW4aqrDg54XrIAcN'"
      ]
     },
     "execution_count": 32,
     "metadata": {},
     "output_type": "execute_result"
    }
   ],
   "source": [
    "batch_file_input.id"
   ]
  },
  {
   "cell_type": "code",
   "execution_count": 33,
   "metadata": {},
   "outputs": [
    {
     "name": "stdout",
     "output_type": "stream",
     "text": [
      "Error saving run info\n",
      "Run started successfully\n"
     ]
    }
   ],
   "source": [
    "batch_info = start_run(client, batch_file_input.id)"
   ]
  },
  {
   "cell_type": "code",
   "execution_count": 34,
   "metadata": {},
   "outputs": [
    {
     "name": "stdout",
     "output_type": "stream",
     "text": [
      "batch_jf27rkCxUiIyfUvpKzZwVvuV\n"
     ]
    }
   ],
   "source": [
    "# Check batch ID\n",
    "#print(batch_info)\n",
    "print(batch_info.id)\n",
    "batch_id = batch_info.id"
   ]
  },
  {
   "cell_type": "code",
   "execution_count": 15,
   "metadata": {},
   "outputs": [
    {
     "name": "stdout",
     "output_type": "stream",
     "text": [
      "Status: completed\n",
      "Output_id: file-EB4vdCapd3zcd8AP5c4ZWsZL\n",
      "BatchRequestsCount: BatchRequestCounts(completed=274, failed=0, total=274)\n"
     ]
    }
   ],
   "source": [
    "# check current status of the run\n",
    "status = client.batches.retrieve(\"batch_jf27rkCxUiIyfUvpKzZwVvuV\")\n",
    "print(f\"Status: {status.status}\\nOutput_id: {status.output_file_id}\\nBatchRequestsCount: {status.request_counts}\")"
   ]
  },
  {
   "cell_type": "code",
   "execution_count": 16,
   "metadata": {},
   "outputs": [],
   "source": [
    "#Getting results fromt the run\n",
    "content = client.files.content(status.output_file_id)\n",
    "file_contents = content.content\n",
    "contents = file_contents.decode(\"utf-8\")\n",
    "json_content = []\n",
    "for line in contents.split(\"\\n\"):\n",
    "    if line:\n",
    "        json_content.append(json.loads(line))"
   ]
  },
  {
   "cell_type": "code",
   "execution_count": 17,
   "metadata": {},
   "outputs": [],
   "source": [
    "def save_results(json_content, name = \"results.jsonl\"):\n",
    "    with open(f\"results/{name}\", \"w\") as file:\n",
    "            for line in json_content:\n",
    "                file.write(json.dumps(line))\n",
    "                file.write(\"\\n\")"
   ]
  },
  {
   "cell_type": "code",
   "execution_count": 18,
   "metadata": {},
   "outputs": [],
   "source": [
    "#save_results(json_content)\n",
    "save_results(json_content, \"results_code.jsonl\")"
   ]
  },
  {
   "cell_type": "code",
   "execution_count": 21,
   "metadata": {},
   "outputs": [],
   "source": [
    "#Extract domains\n",
    "def extract_domain(jsonl_file):\n",
    "    with open(f\"results/{jsonl_file}\", \"r\") as file:\n",
    "        jsonl = file.readlines()\n",
    "        jsonl = [json.loads(line) for line in jsonl]\n",
    "    domains = {}\n",
    "    for line in jsonl:\n",
    "            domain = line[\"response\"][\"body\"][\"choices\"][0][\"message\"][\"content\"].split(\"```\")[1]\n",
    "            domain = domain[domain.index(\"(\"):]\n",
    "            tag = line[\"custom_id\"]\n",
    "            domains[tag] = domain\n",
    "    return domains"
   ]
  },
  {
   "cell_type": "code",
   "execution_count": 22,
   "metadata": {},
   "outputs": [],
   "source": [
    "#domains = extract_domain(\"results.jsonl\")\n",
    "domains = extract_domain(\"results_code.jsonl\")"
   ]
  },
  {
   "cell_type": "code",
   "execution_count": 23,
   "metadata": {},
   "outputs": [
    {
     "name": "stdout",
     "output_type": "stream",
     "text": [
      "dict_keys(['Depots_Nu_code0', 'Depots_Nu_code1', 'Depots_Nu_code2', 'Depots_Nu_code3', 'Depots_Nu_code4', 'Depots_Nu_code5', 'Depots_Nu_code6', 'Depots_Nu_code7', 'Depots_Nu_code8', 'Depots_Nu_code9', 'Depots_Nu_code10', 'Depots_Nu_code11', 'Depots_Nu_code0_nl', 'Depots_Nu_code1_nl', 'Depots_Nu_code2_nl', 'Depots_Nu_code3_nl', 'Depots_Nu_code4_nl', 'Depots_Nu_code5_nl', 'Depots_Nu_code6_nl', 'Depots_Nu_code7_nl', 'Depots_Nu_code8_nl', 'Depots_Nu_code9_nl', 'Depots_Nu_code10_nl', 'Depots_Nu_code11_nl', 'Depots_Si_code0', 'Depots_Si_code1', 'Depots_Si_code2', 'Depots_Si_code3', 'Depots_Si_code4', 'Depots_Si_code5', 'Depots_Si_code6', 'Depots_Si_code7', 'Depots_Si_code8', 'Depots_Si_code9', 'Depots_Si_code10', 'Depots_Si_code0_nl', 'Depots_Si_code1_nl', 'Depots_Si_code2_nl', 'Depots_Si_code3_nl', 'Depots_Si_code4_nl', 'Depots_Si_code5_nl', 'Depots_Si_code6_nl', 'Depots_Si_code7_nl', 'Depots_Si_code8_nl', 'Depots_Si_code9_nl', 'Depots_Si_code10_nl', 'Depots_St_code0', 'Depots_St_code1', 'Depots_St_code2', 'Depots_St_code3', 'Depots_St_code4', 'Depots_St_code5', 'Depots_St_code6', 'Depots_St_code7', 'Depots_St_code0_nl', 'Depots_St_code1_nl', 'Depots_St_code2_nl', 'Depots_St_code3_nl', 'Depots_St_code4_nl', 'Depots_St_code5_nl', 'Depots_St_code6_nl', 'Depots_St_code7_nl', 'Depots_Ti_code0', 'Depots_Ti_code1', 'Depots_Ti_code2', 'Depots_Ti_code3', 'Depots_Ti_code4', 'Depots_Ti_code5', 'Depots_Ti_code6', 'Depots_Ti_code7', 'Depots_Ti_code8', 'Depots_Ti_code9', 'Depots_Ti_code10', 'Depots_Ti_code11', 'Depots_Ti_code12', 'Depots_Ti_code13', 'Depots_Ti_code0_nl', 'Depots_Ti_code1_nl', 'Depots_Ti_code2_nl', 'Depots_Ti_code3_nl', 'Depots_Ti_code4_nl', 'Depots_Ti_code5_nl', 'Depots_Ti_code6_nl', 'Depots_Ti_code7_nl', 'Depots_Ti_code8_nl', 'Depots_Ti_code9_nl', 'Depots_Ti_code10_nl', 'Depots_Ti_code11_nl', 'Depots_Ti_code12_nl', 'Depots_Ti_code13_nl', 'DriverLog_Nu_code0', 'DriverLog_Nu_code1', 'DriverLog_Nu_code2', 'DriverLog_Nu_code3', 'DriverLog_Nu_code4', 'DriverLog_Nu_code5', 'DriverLog_Nu_code6', 'DriverLog_Nu_code7', 'DriverLog_Nu_code8', 'DriverLog_Nu_code9', 'DriverLog_Nu_code10', 'DriverLog_Nu_code11', 'DriverLog_Nu_code0_nl', 'DriverLog_Nu_code1_nl', 'DriverLog_Nu_code2_nl', 'DriverLog_Nu_code3_nl', 'DriverLog_Nu_code4_nl', 'DriverLog_Nu_code5_nl', 'DriverLog_Nu_code6_nl', 'DriverLog_Nu_code7_nl', 'DriverLog_Nu_code8_nl', 'DriverLog_Nu_code9_nl', 'DriverLog_Nu_code10_nl', 'DriverLog_Nu_code11_nl', 'DriverLog_Si_code0', 'DriverLog_Si_code1', 'DriverLog_Si_code2', 'DriverLog_Si_code3', 'DriverLog_Si_code4', 'DriverLog_Si_code5', 'DriverLog_Si_code6', 'DriverLog_Si_code7', 'DriverLog_Si_code8', 'DriverLog_Si_code9', 'DriverLog_Si_code10', 'DriverLog_Si_code11', 'DriverLog_Si_code0_nl', 'DriverLog_Si_code1_nl', 'DriverLog_Si_code2_nl', 'DriverLog_Si_code3_nl', 'DriverLog_Si_code4_nl', 'DriverLog_Si_code5_nl', 'DriverLog_Si_code6_nl', 'DriverLog_Si_code7_nl', 'DriverLog_Si_code8_nl', 'DriverLog_Si_code9_nl', 'DriverLog_Si_code10_nl', 'DriverLog_Si_code11_nl', 'DriverLog_St_code0', 'DriverLog_St_code1', 'DriverLog_St_code2', 'DriverLog_St_code3', 'DriverLog_St_code4', 'DriverLog_St_code5', 'DriverLog_St_code6', 'DriverLog_St_code7', 'DriverLog_St_code8', 'DriverLog_St_code0_nl', 'DriverLog_St_code1_nl', 'DriverLog_St_code2_nl', 'DriverLog_St_code3_nl', 'DriverLog_St_code4_nl', 'DriverLog_St_code5_nl', 'DriverLog_St_code6_nl', 'DriverLog_St_code7_nl', 'DriverLog_St_code8_nl', 'DriverLog_Ti_code0', 'DriverLog_Ti_code1', 'DriverLog_Ti_code2', 'DriverLog_Ti_code3', 'DriverLog_Ti_code4', 'DriverLog_Ti_code5', 'DriverLog_Ti_code6', 'DriverLog_Ti_code7', 'DriverLog_Ti_code8', 'DriverLog_Ti_code9', 'DriverLog_Ti_code10', 'DriverLog_Ti_code11', 'DriverLog_Ti_code12', 'DriverLog_Ti_code13', 'DriverLog_Ti_code14', 'DriverLog_Ti_code0_nl', 'DriverLog_Ti_code1_nl', 'DriverLog_Ti_code2_nl', 'DriverLog_Ti_code3_nl', 'DriverLog_Ti_code4_nl', 'DriverLog_Ti_code5_nl', 'DriverLog_Ti_code6_nl', 'DriverLog_Ti_code7_nl', 'DriverLog_Ti_code8_nl', 'DriverLog_Ti_code9_nl', 'DriverLog_Ti_code10_nl', 'DriverLog_Ti_code11_nl', 'DriverLog_Ti_code12_nl', 'DriverLog_Ti_code13_nl', 'DriverLog_Ti_code14_nl', 'Rovers_Nu_code0', 'Rovers_Nu_code1', 'Rovers_Nu_code2', 'Rovers_Nu_code3', 'Rovers_Nu_code4', 'Rovers_Nu_code5', 'Rovers_Nu_code6', 'Rovers_Nu_code7', 'Rovers_Nu_code8', 'Rovers_Nu_code9', 'Rovers_Nu_code10', 'Rovers_Nu_code0_nl', 'Rovers_Nu_code1_nl', 'Rovers_Nu_code2_nl', 'Rovers_Nu_code3_nl', 'Rovers_Nu_code4_nl', 'Rovers_Nu_code5_nl', 'Rovers_Nu_code6_nl', 'Rovers_Nu_code7_nl', 'Rovers_Nu_code8_nl', 'Rovers_Nu_code9_nl', 'Rovers_Nu_code10_nl', 'Rovers_Si_code0', 'Rovers_Si_code1', 'Rovers_Si_code2', 'Rovers_Si_code3', 'Rovers_Si_code4', 'Rovers_Si_code5', 'Rovers_Si_code6', 'Rovers_Si_code7', 'Rovers_Si_code8', 'Rovers_Si_code9', 'Rovers_Si_code10', 'Rovers_Si_code0_nl', 'Rovers_Si_code1_nl', 'Rovers_Si_code2_nl', 'Rovers_Si_code3_nl', 'Rovers_Si_code4_nl', 'Rovers_Si_code5_nl', 'Rovers_Si_code6_nl', 'Rovers_Si_code7_nl', 'Rovers_Si_code8_nl', 'Rovers_Si_code9_nl', 'Rovers_Si_code10_nl', 'Rovers_St_code0', 'Rovers_St_code1', 'Rovers_St_code2', 'Rovers_St_code3', 'Rovers_St_code4', 'Rovers_St_code5', 'Rovers_St_code6', 'Rovers_St_code7', 'Rovers_St_code8', 'Rovers_St_code0_nl', 'Rovers_St_code1_nl', 'Rovers_St_code2_nl', 'Rovers_St_code3_nl', 'Rovers_St_code4_nl', 'Rovers_St_code5_nl', 'Rovers_St_code6_nl', 'Rovers_St_code7_nl', 'Rovers_St_code8_nl', 'Rovers_Ti_code0', 'Rovers_Ti_code1', 'Rovers_Ti_code2', 'Rovers_Ti_code3', 'Rovers_Ti_code4', 'Rovers_Ti_code5', 'Rovers_Ti_code6', 'Rovers_Ti_code7', 'Rovers_Ti_code8', 'Rovers_Ti_code9', 'Rovers_Ti_code10', 'Rovers_Ti_code11', 'Rovers_Ti_code12', 'Rovers_Ti_code0_nl', 'Rovers_Ti_code1_nl', 'Rovers_Ti_code2_nl', 'Rovers_Ti_code3_nl', 'Rovers_Ti_code4_nl', 'Rovers_Ti_code5_nl', 'Rovers_Ti_code6_nl', 'Rovers_Ti_code7_nl', 'Rovers_Ti_code8_nl', 'Rovers_Ti_code9_nl', 'Rovers_Ti_code10_nl', 'Rovers_Ti_code11_nl', 'Rovers_Ti_code12_nl'])\n"
     ]
    }
   ],
   "source": [
    "print(domains.keys())"
   ]
  },
  {
   "cell_type": "code",
   "execution_count": 24,
   "metadata": {},
   "outputs": [],
   "source": [
    "#Save PDDL results\n",
    "def save_pddl(domains, path, subfolder=\"AI_gen\"):\n",
    "    for key, value in domains.items():\n",
    "        if key.startswith(\"Depots\"):\n",
    "            if \"Nu\" in key:\n",
    "                with open(os.path.join(path, \"Depots\", \"Numeric\", subfolder, f\"{key}.pddl\"), \"w\") as file:\n",
    "                    file.write(value)\n",
    "            elif \"Si\" in key:\n",
    "                with open(os.path.join(path, \"Depots\", \"SimpleTime\", subfolder, f\"{key}.pddl\"), \"w\") as file:\n",
    "                    file.write(value)\n",
    "            elif \"St\" in key:\n",
    "                with open(os.path.join(path, \"Depots\", \"Strips\", subfolder, f\"{key}.pddl\"), \"w\") as file:\n",
    "                    file.write(value)\n",
    "            elif \"Ti\" in key:\n",
    "                with open(os.path.join(path, \"Depots\", \"Time\", subfolder, f\"{key}.pddl\"), \"w\") as file:\n",
    "                    file.write(value)\n",
    "        elif key.startswith(\"DriverLog\"):\n",
    "            if \"Nu\" in key:\n",
    "                with open(os.path.join(path, \"DriverLog\", \"Numeric\", subfolder, f\"{key}.pddl\"), \"w\") as file:\n",
    "                    file.write(value)\n",
    "            elif \"Si\" in key:\n",
    "                with open(os.path.join(path, \"DriverLog\", \"SimpleTime\", subfolder, f\"{key}.pddl\"), \"w\") as file:\n",
    "                    file.write(value)\n",
    "            elif \"St\" in key:\n",
    "                with open(os.path.join(path, \"DriverLog\", \"Strips\", subfolder, f\"{key}.pddl\"), \"w\") as file:\n",
    "                    file.write(value)\n",
    "            elif \"Ti\" in key:\n",
    "                with open(os.path.join(path, \"DriverLog\", \"Time\", subfolder, f\"{key}.pddl\"), \"w\") as file:\n",
    "                    file.write(value)\n",
    "        elif key.startswith(\"Rovers\"):\n",
    "            if \"Nu\" in key:\n",
    "                with open(os.path.join(path, \"Rovers\", \"Numeric\", subfolder, f\"{key}.pddl\"), \"w\") as file:\n",
    "                    file.write(value)\n",
    "            elif \"Si\" in key:\n",
    "                with open(os.path.join(path, \"Rovers\", \"SimpleTime\", subfolder, f\"{key}.pddl\"), \"w\") as file:\n",
    "                    file.write(value)\n",
    "            elif \"St\" in key:\n",
    "                with open(os.path.join(path, \"Rovers\", \"Strips\", subfolder, f\"{key}.pddl\"), \"w\") as file:\n",
    "                    file.write(value)\n",
    "            elif \"Ti\" in key:\n",
    "                with open(os.path.join(path, \"Rovers\", \"Time\", subfolder, f\"{key}.pddl\"), \"w\") as file:\n",
    "                    file.write(value)\n",
    "    print(f\"PDDL files saved successfully in {path}\")"
   ]
  },
  {
   "cell_type": "code",
   "execution_count": 25,
   "metadata": {},
   "outputs": [
    {
     "name": "stdout",
     "output_type": "stream",
     "text": [
      "PDDL files saved successfully in /home/god/Documents/Masters/data/IPC3/Tests1\n"
     ]
    }
   ],
   "source": [
    "path = \"data/IPC3/Tests1\"\n",
    "path = os.path.abspath(path)\n",
    "#save_pddl(domains, path)\n",
    "save_pddl(domains, path, \"AI_gen_code\")"
   ]
  },
  {
   "cell_type": "markdown",
   "metadata": {},
   "source": [
    "# Report file\n",
    "## Syntax\n",
    "- Domain\n",
    "    - Requirement\n",
    "        - Total syntax errors\n",
    "        - Syntax errors natural language\n",
    "        - Syntax errors regular\n",
    "        - total success\n",
    "\n",
    "## Plan\n",
    "- Domain\n",
    "    - Requirement\n",
    "        - Failed plan generations natural language\n",
    "        - Failed plan generations regular\n",
    "        - Total failed plan generations\n",
    "        - Total success"
   ]
  },
  {
   "cell_type": "code",
   "execution_count": 3,
   "metadata": {},
   "outputs": [
    {
     "name": "stdout",
     "output_type": "stream",
     "text": [
      "{'domain': 'Depots', 'requirement': 'Numeric', 'file': 'Depots_Nu_code8.pddl', 'errors': 0, 'warnings': 0, 'error_list': [], 'warning_list': []}\n"
     ]
    }
   ],
   "source": [
    "#Run in python to get outputs\n",
    "import json\n",
    "import os\n",
    "import subprocess\n",
    "subprocess.os.chdir(\"/home/god/Documents/Masters\")\n",
    "\n",
    "#syntax_path = \"results/syntax-AI_gen.jsonl\"\n",
    "syntax_path = \"results/syntax-AI_gen_code.jsonl\"\n",
    "\n",
    "with open(syntax_path, \"r\") as file:\n",
    "    syntax_results = file.readlines()\n",
    "    syntax_results = [json.loads(line) for line in syntax_results]\n",
    "\n",
    "print(syntax_results[0])"
   ]
  },
  {
   "cell_type": "code",
   "execution_count": 4,
   "metadata": {},
   "outputs": [],
   "source": [
    "#Process results\n",
    "Depots = {\"Numeric\": 0, \"SimpleTime\": 0, \"Strips\": 0, \"Time\": 0}\n",
    "DriverLog = {\"Numeric\": 0, \"SimpleTime\": 0, \"Strips\": 0, \"Time\": 0}\n",
    "Rovers = {\"Numeric\": 0, \"SimpleTime\": 0, \"Strips\": 0, \"Time\": 0}\n",
    "syntax_evaluation = {\"Depots\": Depots, \"DriverLog\": DriverLog, \"Rovers\": Rovers}\n",
    "natural_language_errors = 0\n",
    "invalid_syntax_files = []\n",
    "for result in syntax_results:\n",
    "    if result[\"errors\"] > 0:\n",
    "        syntax_evaluation[result[\"domain\"]][result[\"requirement\"]] += 1\n",
    "        invalid_syntax_files.append(result[\"file\"])\n",
    "        if \"_nl\" in result[\"file\"]:\n",
    "            natural_language_errors += 1\n",
    "\n",
    "total_numerics = sum([syntax_evaluation[\"Depots\"][\"Numeric\"], syntax_evaluation[\"DriverLog\"][\"Numeric\"], syntax_evaluation[\"Rovers\"][\"Numeric\"]])\n",
    "total_simpletimes = sum([syntax_evaluation[\"Depots\"][\"SimpleTime\"], syntax_evaluation[\"DriverLog\"][\"SimpleTime\"], syntax_evaluation[\"Rovers\"][\"SimpleTime\"]])\n",
    "total_strips = sum([syntax_evaluation[\"Depots\"][\"Strips\"], syntax_evaluation[\"DriverLog\"][\"Strips\"], syntax_evaluation[\"Rovers\"][\"Strips\"]])\n",
    "total_time = sum([syntax_evaluation[\"Depots\"][\"Time\"], syntax_evaluation[\"DriverLog\"][\"Time\"], syntax_evaluation[\"Rovers\"][\"Time\"]])\n",
    "\n",
    "Total_depot = sum([syntax_evaluation[\"Depots\"][\"Numeric\"], syntax_evaluation[\"Depots\"][\"SimpleTime\"], syntax_evaluation[\"Depots\"][\"Strips\"], syntax_evaluation[\"Depots\"][\"Time\"]])\n",
    "Total_DriverLog = sum([syntax_evaluation[\"DriverLog\"][\"Numeric\"], syntax_evaluation[\"DriverLog\"][\"SimpleTime\"], syntax_evaluation[\"DriverLog\"][\"Strips\"], syntax_evaluation[\"DriverLog\"][\"Time\"]])\n",
    "Total_Rovers = sum([syntax_evaluation[\"Rovers\"][\"Numeric\"], syntax_evaluation[\"Rovers\"][\"SimpleTime\"], syntax_evaluation[\"Rovers\"][\"Strips\"], syntax_evaluation[\"Rovers\"][\"Time\"]])\n",
    "\n",
    "Total = sum([Total_depot, Total_DriverLog, Total_Rovers])\n",
    "\n",
    "percentage_errors = \"{:.2f}\".format((Total/270)*100)\n",
    "\n",
    "regular_expression_errors = Total - natural_language_errors\n",
    "regular_expression_percentage = \"{:.2f}\".format((regular_expression_errors/Total)*100)\n",
    "natural_language_errors = \"{:.2f}\".format((natural_language_errors/Total)*100)\n",
    "        \n"
   ]
  },
  {
   "cell_type": "code",
   "execution_count": 5,
   "metadata": {},
   "outputs": [
    {
     "name": "stdout",
     "output_type": "stream",
     "text": [
      "Total errors: 10\n",
      "Total errors percentage: 3.70%\n",
      "Successful modification without automated corrections: 96.30%\n",
      "\n",
      "Total numeric errors: 1\n",
      "Total simpletime errors: 0\n",
      "Total strips errors: 1\n",
      "Total time errors: 8\n",
      "\n",
      "Total Depot errors: 3\n",
      "Total DriverLog errors: 2\n",
      "Total Rovers errors: 5\n",
      "\n",
      "Total regular expression errors: 5\n",
      "Regular expression errors percentage: 50.00%\n",
      "Natural language errors: 50.00%\n",
      "Total natural language errors: 50.00\n",
      "\n",
      "\n",
      "Files with invalid syntax ['Depots_Ti_code4_nl.pddl', 'Depots_Ti_code3_nl.pddl', 'Depots_Ti_code8.pddl', 'DriverLog_Nu_code7.pddl', 'DriverLog_Ti_code11.pddl', 'Rovers_St_code3_nl.pddl', 'Rovers_Ti_code7.pddl', 'Rovers_Ti_code6_nl.pddl', 'Rovers_Ti_code11.pddl', 'Rovers_Ti_code12_nl.pddl']\n"
     ]
    }
   ],
   "source": [
    "print(f\"Total errors: {Total}\")\n",
    "print(f\"Total errors percentage: {percentage_errors}%\")\n",
    "print(f\"Successful modification without automated corrections: {'{:.2f}'.format(100-float(percentage_errors))}%\\n\")\n",
    "print(f\"Total numeric errors: {total_numerics}\")\n",
    "print(f\"Total simpletime errors: {total_simpletimes}\")\n",
    "print(f\"Total strips errors: {total_strips}\")\n",
    "print(f\"Total time errors: {total_time}\\n\")\n",
    "\n",
    "print(f\"Total Depot errors: {Total_depot}\")\n",
    "print(f\"Total DriverLog errors: {Total_DriverLog}\")\n",
    "print(f\"Total Rovers errors: {Total_Rovers}\\n\")\n",
    "\n",
    "print(f\"Total regular expression errors: {regular_expression_errors}\")\n",
    "print(f\"Regular expression errors percentage: {regular_expression_percentage}%\")\n",
    "print(f\"Natural language errors: {natural_language_errors}%\")\n",
    "print(f\"Total natural language errors: {natural_language_errors}\\n\\n\")\n",
    "\n",
    "print(\"Files with invalid syntax\", invalid_syntax_files)"
   ]
  },
  {
   "cell_type": "code",
   "execution_count": 6,
   "metadata": {},
   "outputs": [],
   "source": [
    "import subprocess\n",
    "import concurrent.futures\n",
    "\n",
    "pddl_path = \"/home/god/Documents/Masters/data/IPC3/Tests1\"\n",
    "popf_path = \"/home/god/.planutils/packages/popf\"\n",
    "domain_folder = \"AI_gen_code\"\n",
    "generated = True\n",
    "\n",
    "Depots = {\"Numeric\": 0, \"SimpleTime\": 0, \"Strips\": 0, \"Time\": 0}\n",
    "DriverLog = {\"Numeric\": 0, \"SimpleTime\": 0, \"Strips\": 0, \"Time\": 0}\n",
    "Rovers = {\"Numeric\": 0, \"SimpleTime\": 0, \"Strips\": 0, \"Time\": 0}\n",
    "plan_evaluation = {\"Depots\": Depots, \"DriverLog\": DriverLog, \"Rovers\": Rovers}\n",
    "natural_language_errors = 0\n",
    "files_with_failed_plans = []\n",
    "files_timeout = []\n",
    "\n",
    "runs = []\n",
    "subprocess.os.chdir(popf_path)\n",
    "total = 0\n",
    "success = 0\n",
    "for domain in [\"Depots\", \"DriverLog\", \"Rovers\"]:\n",
    "    for req in [\"Numeric\", \"SimpleTime\", \"Strips\", \"Time\"]:\n",
    "        if generated:\n",
    "            files = sorted(os.listdir(os.path.join(pddl_path, domain, req, domain_folder)), key=natural_keys)\n",
    "            for file in files:\n",
    "                if file.endswith(\".pddl\") and file not in invalid_syntax_files:\n",
    "                    problem_files = sorted(os.listdir(os.path.join(pddl_path, domain, req, \"problems\")), key=natural_keys)\n",
    "                    for problem in problem_files:\n",
    "                        plan_command = f\"./run /home/god/Documents/Masters/data/IPC3/Tests1/{domain}/{req}/{domain_folder}/{file} /home/god/Documents/Masters/data/IPC3/Tests1/{domain}/{req}/problems/{problem}\"\n",
    "                        runs.append(plan_command)\n",
    "        else:\n",
    "            files = sorted(os.listdir(os.path.join(pddl_path, domain, req)))\n",
    "            for file in files:\n",
    "                if file.endswith(\".pddl\"):\n",
    "                    problem_files = sorted(os.listdir(os.path.join(pddl_path, domain, req, \"HandCoded\", \"problems\")), key=natural_keys) # Remove Handcoded for base problems\n",
    "                    for problem in problem_files:\n",
    "                        plan_command = f\"./run /home/god/Documents/Masters/data/IPC3/Tests1/{domain}/{req}/{file} /home/god/Documents/Masters/data/IPC3/Tests1/{domain}/{req}/HandCoded/problems/{problem}\" # Remove Handcoded for base problems\n",
    "                        runs.append(plan_command)\n",
    "                    \n",
    "                    \n",
    "                    # try:\n",
    "                    #     plan = subprocess.run(plan_command, shell=True, capture_output=True, check=True, timeout=5)\n",
    "                    #     out = plan.stdout\n",
    "                    #     total += 1\n",
    "                    #     if \"Solution Found\" in out.decode(\"utf-8\"):\n",
    "                    #         success += 1\n",
    "                    #     else:\n",
    "                    #         files_with_failed_plans.append(file)\n",
    "                    #         plan_evaluation[domain][req] += 1\n",
    "                    #         if \"_nl\" in file:\n",
    "                    #             natural_language_errors += 1\n",
    "                    # except subprocess.TimeoutExpired:\n",
    "                    #     files_timeout.append(file)\n",
    "                    #     print(\"Timeout error\")\n",
    "                    # except subprocess.CalledProcessError:\n",
    "                    #     print(\"Error generating plan\")\n",
    "  \n",
    "\n",
    "# Total_plan_depot = sum([plan_evaluation[\"Depots\"][\"Numeric\"], plan_evaluation[\"Depots\"][\"SimpleTime\"], plan_evaluation[\"Depots\"][\"Strips\"], plan_evaluation[\"Depots\"][\"Time\"]])\n",
    "# Total_plan_DriverLog = sum([plan_evaluation[\"DriverLog\"][\"Numeric\"], plan_evaluation[\"DriverLog\"][\"SimpleTime\"], plan_evaluation[\"DriverLog\"][\"Strips\"], plan_evaluation[\"DriverLog\"][\"Time\"]])\n",
    "# Total_plan_Rovers = sum([plan_evaluation[\"Rovers\"][\"Numeric\"], plan_evaluation[\"Rovers\"][\"SimpleTime\"], plan_evaluation[\"Rovers\"][\"Strips\"], plan_evaluation[\"Rovers\"][\"Time\"]])\n",
    "\n",
    "# Total_plan = sum([Total_plan_depot, Total_plan_DriverLog, Total_plan_Rovers])\n",
    "\n",
    "# Total_plan_numerics = sum([plan_evaluation[\"Depots\"][\"Numeric\"], plan_evaluation[\"DriverLog\"][\"Numeric\"], plan_evaluation[\"Rovers\"][\"Numeric\"]])\n",
    "# Total_plan_simpletimes = sum([plan_evaluation[\"Depots\"][\"SimpleTime\"], plan_evaluation[\"DriverLog\"][\"SimpleTime\"], plan_evaluation[\"Rovers\"][\"SimpleTime\"]])\n",
    "# Total_plan_strips = sum([plan_evaluation[\"Depots\"][\"Strips\"], plan_evaluation[\"DriverLog\"][\"Strips\"], plan_evaluation[\"Rovers\"][\"Strips\"]])\n",
    "# Total_plan_time = sum([plan_evaluation[\"Depots\"][\"Time\"], plan_evaluation[\"DriverLog\"][\"Time\"], plan_evaluation[\"Rovers\"][\"Time\"]])\n",
    "\n",
    "# percentage_errors = \"{:.2f}\".format((Total_plan/total)*100)\n",
    "# percentage_success = \"{:.2f}\".format((success/total)*100)\n",
    "\n",
    "# Total_plan_nl_errors = natural_language_errors\n",
    "# Total_plan_regular_errors = Total_plan - natural_language_errors\n",
    "# Total_plan_regular_errors_percentage = \"{:.2f}\".format((Total_plan_regular_errors/Total_plan)*100)\n",
    "# Total_plan_nl_errors_percentage = \"{:.2f}\".format((Total_plan_nl_errors/Total_plan)*100)\n",
    "if generated:\n",
    "    subprocess.os.chdir(\"/home/god/Documents/Masters/runs\")\n",
    "    with open(\"run_commands.txt\", \"w\") as file:\n",
    "        for run in runs:\n",
    "            file.write(run)\n",
    "            file.write(\"\\n\")\n",
    "else: \n",
    "    subprocess.os.chdir(\"/home/god/Documents/Masters/runs/original\")\n",
    "    with open(\"run_commands.txt\", \"w\") as file:\n",
    "        for run in runs:\n",
    "            file.write(run)\n",
    "            file.write(\"\\n\")"
   ]
  },
  {
   "cell_type": "code",
   "execution_count": 299,
   "metadata": {},
   "outputs": [
    {
     "ename": "NameError",
     "evalue": "name 'Total_plan' is not defined",
     "output_type": "error",
     "traceback": [
      "\u001b[0;31m---------------------------------------------------------------------------\u001b[0m",
      "\u001b[0;31mNameError\u001b[0m                                 Traceback (most recent call last)",
      "Cell \u001b[0;32mIn[299], line 1\u001b[0m\n\u001b[0;32m----> 1\u001b[0m \u001b[38;5;28mprint\u001b[39m(\u001b[38;5;124mf\u001b[39m\u001b[38;5;124m\"\u001b[39m\u001b[38;5;124mTotal plan errors: \u001b[39m\u001b[38;5;132;01m{\u001b[39;00m\u001b[43mTotal_plan\u001b[49m\u001b[38;5;132;01m}\u001b[39;00m\u001b[38;5;124m\"\u001b[39m)\n\u001b[1;32m      2\u001b[0m \u001b[38;5;28mprint\u001b[39m(\u001b[38;5;124mf\u001b[39m\u001b[38;5;124m\"\u001b[39m\u001b[38;5;124mTotal plan errors percentage: \u001b[39m\u001b[38;5;132;01m{\u001b[39;00mpercentage_errors\u001b[38;5;132;01m}\u001b[39;00m\u001b[38;5;124m%\u001b[39m\u001b[38;5;124m\"\u001b[39m)\n\u001b[1;32m      3\u001b[0m \u001b[38;5;28mprint\u001b[39m(\u001b[38;5;124mf\u001b[39m\u001b[38;5;124m\"\u001b[39m\u001b[38;5;124mTotal plan success: \u001b[39m\u001b[38;5;132;01m{\u001b[39;00mpercentage_success\u001b[38;5;132;01m}\u001b[39;00m\u001b[38;5;124m%\u001b[39m\u001b[38;5;130;01m\\n\u001b[39;00m\u001b[38;5;124m\"\u001b[39m)\n",
      "\u001b[0;31mNameError\u001b[0m: name 'Total_plan' is not defined"
     ]
    }
   ],
   "source": [
    "print(f\"Total plan errors: {Total_plan}\")\n",
    "print(f\"Total plan errors percentage: {percentage_errors}%\")\n",
    "print(f\"Total plan success: {percentage_success}%\\n\")\n",
    "\n",
    "print(f\"Total plan numeric errors: {Total_plan_numerics}\")\n",
    "print(f\"Total plan simpletime errors: {Total_plan_simpletimes}\")\n",
    "print(f\"Total plan strips errors: {Total_plan_strips}\")\n",
    "print(f\"Total plan time errors: {Total_plan_time}\\n\")\n",
    "\n",
    "print(f\"Total plan Depot errors: {Total_plan_depot}\")\n",
    "print(f\"Total plan DriverLog errors: {Total_plan_DriverLog}\")\n",
    "print(f\"Total plan Rovers errors: {Total_plan_Rovers}\\n\")\n",
    "\n",
    "print(f\"Total regular expression errors: {Total_plan_regular_errors}\")\n",
    "print(f\"Regular expression errors percentage: {Total_plan_regular_errors_percentage}%\")\n",
    "print(f\"Natural language errors: {Total_plan_nl_errors}\")\n",
    "print(f\"Natural language errors percentage: {Total_plan_nl_errors_percentage}%\\n\\n\")\n",
    "\n",
    "print(\"Files with failed plans\", files_with_failed_plans)"
   ]
  }
 ],
 "metadata": {
  "kernelspec": {
   "display_name": "venv",
   "language": "python",
   "name": "python3"
  },
  "language_info": {
   "codemirror_mode": {
    "name": "ipython",
    "version": 3
   },
   "file_extension": ".py",
   "mimetype": "text/x-python",
   "name": "python",
   "nbconvert_exporter": "python",
   "pygments_lexer": "ipython3",
   "version": "3.10.12"
  }
 },
 "nbformat": 4,
 "nbformat_minor": 2
}
