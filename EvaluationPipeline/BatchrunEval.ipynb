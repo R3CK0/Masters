{
 "cells": [
  {
   "cell_type": "code",
   "execution_count": 11,
   "metadata": {},
   "outputs": [],
   "source": [
    "import json\n",
    "from openai import OpenAI\n",
    "import os\n",
    "import re\n",
    "import httpx"
   ]
  },
  {
   "cell_type": "code",
   "execution_count": 13,
   "metadata": {},
   "outputs": [],
   "source": [
    "# key for sorting\n",
    "def natural_keys(text):\n",
    "    return [int(c) if c.isdigit() else c.lower() for c in re.split('([0-9]+)', text)]\n"
   ]
  },
  {
   "cell_type": "code",
   "execution_count": 159,
   "metadata": {},
   "outputs": [],
   "source": [
    "#Creates the format for the jsonl file\n",
    "def create_jsonl_format(subdomain, prompt, id, nl=False):\n",
    "    jsonl = []\n",
    "    for idx, (domain, prompt) in enumerate(zip(subdomain, prompt)):\n",
    "        start_index = domain.find(\"(define\")\n",
    "        dom = domain[start_index:]\n",
    "        if nl:\n",
    "            ids = id+str(idx)+\"_nl\"\n",
    "        else:\n",
    "            ids = id+str(idx)\n",
    "        jsonl.append({\"custom_id\": ids, \"method\":\"POST\", \"url\":\"/v1/chat/completions\", \"body\":{\"model\": \"gpt-4o\", \"messages\": [{\"role\": \"system\", \"content\": \"You are a PDDL domain creation expert, you modify domains based on requested changes.\"},{\"role\": \"user\", \"content\": f\"{prompt}\\n\\n{dom}\"}],\"max_tokens\": 3012, \"temperature\": 1, \"top_p\": 1}})\n",
    "    return jsonl"
   ]
  },
  {
   "cell_type": "code",
   "execution_count": 177,
   "metadata": {},
   "outputs": [],
   "source": [
    "# For passing directly no batching\n",
    "def create_jsonl_format2(subdomain, prompt, id, nl=False):\n",
    "    jsonl = []\n",
    "    for idx, (domain, prompt) in enumerate(zip(subdomain, prompt)):\n",
    "        start_index = domain.find(\"(define\")\n",
    "        dom = domain[start_index:]\n",
    "        if nl:\n",
    "            ids = id+str(idx)+\"_nl\"\n",
    "        else:\n",
    "            ids = id+str(idx)\n",
    "        jsonl.append({\"custom_id\": ids, \"messages\": [{\"role\": \"system\", \"content\": \"You are a PDDL domain creation expert, you modify domains based on requested changes.\"},{\"role\": \"user\", \"content\": f\"{prompt}\\n\\n{dom}\"}]})\n",
    "    return jsonl"
   ]
  },
  {
   "cell_type": "code",
   "execution_count": null,
   "metadata": {},
   "outputs": [],
   "source": [
    "# Code and natural language\n",
    "#Creates the format for the jsonl file\n",
    "def create_jsonl_format_code(subdomain, code, id, nl=None):\n",
    "    jsonl = []\n",
    "    for idx, (domain, prompt) in enumerate(zip(subdomain, prompt)):\n",
    "        start_index = domain.find(\"(define\")\n",
    "        dom = domain[start_index:]\n",
    "        if nl is not None:\n",
    "            ids = id+str(idx)+\"_nl\"\n",
    "            jsonl.append({\"custom_id\": ids, \"method\":\"POST\", \"url\":\"/v1/chat/completions\", \"body\":{\"model\": \"gpt-4o\", \"messages\": [{\"role\": \"system\", \"content\": \"You are a PDDL domain creation expert, you modify provided domains to make them executable based on a given prompt and python wrapper\"},{\"role\": \"user\", \"content\": f\"{nl}\\n\\n{dom}\\n\\nThe following is the executable code for the domain:\\n\\n{code}\"}],\"max_tokens\": 4512, \"temperature\": 1, \"top_p\": 1}})\n",
    "        else:\n",
    "            ids = id+str(idx)\n",
    "            if id != 'Si' and id != 'Ti':\n",
    "                jsonl.append({\"custom_id\": ids, \"method\":\"POST\", \"url\":\"/v1/chat/completions\", \"body\":{\"model\": \"gpt-4o\", \"messages\": [{\"role\": \"system\", \"content\": \"You are a PDDL domain creation expert, you modify provided domains to make them executable based on the codebase.\"},{\"role\": \"user\", \"content\": f\"Modify the following domain based on the given code so that all the functions in the code match the actions of the domain taking into effect preconditions and effects.\\n\\n{dom}\\n\\nThe following is the executable code for the domain:\\n\\n{code}\"}],\"max_tokens\": 4512, \"temperature\": 1, \"top_p\": 1}})\n",
    "            else:\n",
    "                jsonl.append({\"custom_id\": ids, \"method\":\"POST\", \"url\":\"/v1/chat/completions\", \"body\":{\"model\": \"gpt-4o\", \"messages\": [{\"role\": \"system\", \"content\": \"You are a PDDL domain creation expert, you modify provided domains to make them executable based on the codebase.\"},{\"role\": \"user\", \"content\": f\"Modify the following domain based on the given code so that all the functions in the code match the actions of the domain taking into effect preconditions and effects. All durative actions have a duration of 4\\n\\n{dom}\\n\\nThe following is the executable code for the domain:\\n\\n{code}\"}],\"max_tokens\": 4512, \"temperature\": 1, \"top_p\": 1}})\n",
    "\n",
    "    return jsonl"
   ]
  },
  {
   "cell_type": "code",
   "execution_count": 211,
   "metadata": {},
   "outputs": [],
   "source": [
    "#Creates the Batch for passing to openai\n",
    "def create_jsonl_batch(root, format_function, batch_type=\"prompt-only\"):\n",
    "    path = os.path.abspath(root)\n",
    "    batch_json = []\n",
    "    for domain in [\"Depots\", \"DriverLog\", \"Rovers\"]:\n",
    "        for req in [\"Numeric\", \"SimpleTime\", \"Strips\", \"Time\"]:\n",
    "            prompt_files = os.listdir(os.path.join(path,domain,req, \"labels\"))\n",
    "            nl_prompts = sorted([prompts for prompts in prompt_files if prompts.endswith(\"nl.txt\")], key=natural_keys)\n",
    "            reg_prompts = sorted([prompts for prompts in prompt_files if not prompts.endswith(\"nl.txt\")], key=natural_keys)\n",
    "            \n",
    "            subdomain_files = os.listdir(os.path.join(path,domain,req, \"subdomains\"))\n",
    "            subdomains = [subdomain for subdomain in subdomain_files if \"sub\" in subdomain]\n",
    "            subdomains = sorted(subdomains, key=natural_keys)\n",
    "            \n",
    "            if batch_type == \"prompt-and-code\":\n",
    "                with open(os.path.join(path,domain,req, \"signature.py\"), \"r\") as f:\n",
    "                    code = f.read()\n",
    "\n",
    "            sub_prompt = []\n",
    "            for subdomain in subdomains:\n",
    "                with open(os.path.join(path,domain,req, \"subdomains\", subdomain), \"r\") as f:\n",
    "                    sub_prompt.append(f.read())\n",
    "            \n",
    "            nl_pr = []\n",
    "            for prompt in nl_prompts:\n",
    "                with open(os.path.join(path,domain,req, \"labels\", prompt), \"r\") as f:\n",
    "                    nl_pr.append(f.read())\n",
    "                    \n",
    "            reg_pr = []\n",
    "            for prompt in reg_prompts:\n",
    "                with open(os.path.join(path,domain,req, \"labels\", prompt), \"r\") as f:\n",
    "                    reg_pr.append(f.read())\n",
    "\n",
    "            print(\"creating jsonl file for \", domain, req)\n",
    "            if batch_type == \"prompt-only\":\n",
    "                nl_jsonl = format_function(nl_pr, f\"{domain}_{req[:2]}\", True)\n",
    "                reg_jsonl = format_function(reg_pr, f\"{domain}_{req[:2]}\")\n",
    "                \n",
    "            elif batch_type == \"prompt-and-code\":\n",
    "                nl_jsonl = format_function(sub_prompt, code, f\"{domain}_{req[:2]}_code\", nl_pr)\n",
    "                reg_jsonl = format_function(sub_prompt, code, f\"{domain}_{req[:2]}_code\") \n",
    "                \n",
    "            batch_json.extend(reg_jsonl)\n",
    "            batch_json.extend(nl_jsonl)\n",
    "\n",
    "    with open(f\"results/batch-{batch_type}.jsonl\", \"w\") as file:\n",
    "        for line in batch_json:\n",
    "            file.write(json.dumps(line))\n",
    "            file.write(\"\\n\")"
   ]
  },
  {
   "cell_type": "code",
   "execution_count": 205,
   "metadata": {},
   "outputs": [],
   "source": [
    "#Function to upload batch data to openai\n",
    "def save_batch_info(name, data):\n",
    "    with open(\"batch_info.json\", \"w\") as file:\n",
    "        json.dump({name: data}, file)\n",
    "def upload_batch(client, jsonl_file):\n",
    "    batch_file_input = client.files.create(\n",
    "        file=open(jsonl_file, \"rb\"),\n",
    "        purpose=\"batch\"\n",
    "    )\n",
    "    #save_batch_info(\"openai_batch_info\", batch_file_input)\n",
    "    print(\"Batch file uploaded successfully\")\n",
    "    return batch_file_input "
   ]
  },
  {
   "cell_type": "code",
   "execution_count": 206,
   "metadata": {},
   "outputs": [],
   "source": [
    "#Function to start inference on the batch\n",
    "def start_run(client, input_file_id, description = \"Evaluation run with no code\"):\n",
    "    run = client.batches.create(\n",
    "        input_file_id=input_file_id,\n",
    "        endpoint=\"/v1/chat/completions\",\n",
    "        completion_window=\"24h\",\n",
    "        metadata={\"description\": description}    \n",
    "    )\n",
    "    try:\n",
    "        save_batch_info(\"openai_run_info\", run)\n",
    "    except:\n",
    "        print(\"Error saving run info\")\n",
    "    print(\"Run started successfully\")\n",
    "    return run"
   ]
  },
  {
   "cell_type": "code",
   "execution_count": 212,
   "metadata": {},
   "outputs": [
    {
     "name": "stdout",
     "output_type": "stream",
     "text": [
      "creating jsonl file for  Depots Numeric\n",
      "creating jsonl file for  Depots SimpleTime\n",
      "creating jsonl file for  Depots Strips\n",
      "creating jsonl file for  Depots Time\n",
      "creating jsonl file for  DriverLog Numeric\n",
      "creating jsonl file for  DriverLog SimpleTime\n",
      "creating jsonl file for  DriverLog Strips\n",
      "creating jsonl file for  DriverLog Time\n",
      "creating jsonl file for  Rovers Numeric\n",
      "creating jsonl file for  Rovers SimpleTime\n",
      "creating jsonl file for  Rovers Strips\n",
      "creating jsonl file for  Rovers Time\n"
     ]
    }
   ],
   "source": [
    "# Create Batch no code\n",
    "path = \"data/IPC3/Tests1\"\n",
    "create_jsonl_batch(path, create_jsonl_format, \"prompt-only\")"
   ]
  },
  {
   "cell_type": "code",
   "execution_count": null,
   "metadata": {},
   "outputs": [],
   "source": [
    "# Batch with code\n",
    "path = \"data/IPC3/Tests1\"\n",
    "create_jsonl_batch(path, create_jsonl_format_code, \"prompt-and-code\")"
   ]
  },
  {
   "cell_type": "code",
   "execution_count": 208,
   "metadata": {},
   "outputs": [],
   "source": [
    "with open(\"EvaluationPipeline/OPENAI_KEY.json\", 'r') as json_file:\n",
    "        data = json.load(json_file)\n",
    "        client = OpenAI(api_key=data['openai_key'])"
   ]
  },
  {
   "cell_type": "code",
   "execution_count": 213,
   "metadata": {},
   "outputs": [
    {
     "name": "stdout",
     "output_type": "stream",
     "text": [
      "{'custom_id': 'Depots_Nu0_nl', 'method': 'POST', 'url': '/v1/chat/completions', 'body': {'model': 'gpt-4o', 'messages': [{'role': 'system', 'content': 'You are a PDDL domain creation expert, you modify domains based on requested changes.'}, {'role': 'user', 'content': 'Modify the following PDDL domain by \\nadding a load_limit to the truck. \\n\\nThis will require adding 3 functions: \\nload_limit per truck, current_load per truck and the weight per crate\\n\\nModify the load and unload actions accordingly\\n\\n\\n(define (domain Depot)\\n(:requirements :typing :fluents)\\n(:types place locatable - object\\n\\tdepot distributor - place\\n        truck hoist surface - locatable\\n        pallet crate - surface)\\n\\n(:predicates (at ?x - locatable ?y - place) \\n             (on ?x - crate ?y - surface)\\n             (in ?x - crate ?y - truck)\\n             (lifting ?x - hoist ?y - crate)\\n             (available ?x - hoist)\\n             (clear ?x - surface)\\n)\\n\\n(:functions  \\n\\t(fuel-cost)\\n)\\n\\t\\n(:action Drive\\n:parameters (?x - truck ?y - place ?z - place) \\n:precondition (and (at ?x ?y))\\n:effect (and (not (at ?x ?y)) (at ?x ?z)\\n\\t\\t(increase (fuel-cost) 10)))\\n\\n(:action Lift\\n:parameters (?x - hoist ?y - crate ?z - surface ?p - place)\\n:precondition (and (at ?x ?p) (available ?x) (at ?y ?p) (on ?y ?z) (clear ?y))\\n:effect (and (not (at ?y ?p)) (lifting ?x ?y) (not (clear ?y)) (not (available ?x)) \\n             (clear ?z) (not (on ?y ?z)) (increase (fuel-cost) 1)))\\n\\n(:action Drop \\n:parameters (?x - hoist ?y - crate ?z - surface ?p - place)\\n:precondition (and (at ?x ?p) (at ?z ?p) (clear ?z) (lifting ?x ?y))\\n:effect (and (available ?x) (not (lifting ?x ?y)) (at ?y ?p) (not (clear ?z)) (clear ?y)\\n\\t\\t(on ?y ?z)))\\n\\n(:action Load\\n:parameters (?x - hoist ?y - crate ?z - truck ?p - place)\\n:precondition (and (at ?x ?p) (at ?z ?p) (lifting ?x ?y))\\n:effect (and (not (lifting ?x ?y)) (in ?y ?z) (available ?x)))\\n\\n(:action Unload \\n:parameters (?x - hoist ?y - crate ?z - truck ?p - place)\\n:precondition (and (at ?x ?p) (at ?z ?p) (available ?x) (in ?y ?z))\\n:effect (and (not (in ?y ?z)) (not (available ?x)) (lifting ?x ?y)))\\n\\n)\\n'}], 'max_tokens': 3012, 'temperature': 1, 'top_p': 1}}\n",
      "{'custom_id': 'Depots_Nu1_nl', 'method': 'POST', 'url': '/v1/chat/completions', 'body': {'model': 'gpt-4o', 'messages': [{'role': 'system', 'content': 'You are a PDDL domain creation expert, you modify domains based on requested changes.'}, {'role': 'user', 'content': 'Modify the following PDDL domain\\nAdd fuel-cost tracking\\n\\nThis will require adding 1 function fuel-cost \\n\\nDriving will cost 10 fuel while using the Lift costs 1 fuel\\n\\n(define (domain Depot)\\n(:requirements :typing :fluents)\\n(:types place locatable - object\\n\\tdepot distributor - place\\n        truck hoist surface - locatable\\n        pallet crate - surface)\\n\\n(:predicates (at ?x - locatable ?y - place) \\n             (on ?x - crate ?y - surface)\\n             (in ?x - crate ?y - truck)\\n             (lifting ?x - hoist ?y - crate)\\n             (available ?x - hoist)\\n             (clear ?x - surface)\\n)\\n\\n(:functions \\n\\t(load_limit ?t - truck) \\n\\t(current_load ?t - truck) \\n\\t(weight ?c - crate)\\n)\\n\\t\\n(:action Drive\\n:parameters (?x - truck ?y - place ?z - place) \\n:precondition (and (at ?x ?y))\\n:effect (and (not (at ?x ?y)) (at ?x ?z)))\\n\\n(:action Lift\\n:parameters (?x - hoist ?y - crate ?z - surface ?p - place)\\n:precondition (and (at ?x ?p) (available ?x) (at ?y ?p) (on ?y ?z) (clear ?y))\\n:effect (and (not (at ?y ?p)) (lifting ?x ?y) (not (clear ?y)) (not (available ?x)) \\n             (clear ?z) (not (on ?y ?z))))\\n\\n(:action Drop \\n:parameters (?x - hoist ?y - crate ?z - surface ?p - place)\\n:precondition (and (at ?x ?p) (at ?z ?p) (clear ?z) (lifting ?x ?y))\\n:effect (and (available ?x) (not (lifting ?x ?y)) (at ?y ?p) (not (clear ?z)) (clear ?y)\\n\\t\\t(on ?y ?z)))\\n\\n(:action Load\\n:parameters (?x - hoist ?y - crate ?z - truck ?p - place)\\n:precondition (and (at ?x ?p) (at ?z ?p) (lifting ?x ?y)\\n\\t\\t(<= (+ (current_load ?z) (weight ?y)) (load_limit ?z)))\\n:effect (and (not (lifting ?x ?y)) (in ?y ?z) (available ?x)\\n\\t\\t(increase (current_load ?z) (weight ?y))))\\n\\n(:action Unload \\n:parameters (?x - hoist ?y - crate ?z - truck ?p - place)\\n:precondition (and (at ?x ?p) (at ?z ?p) (available ?x) (in ?y ?z))\\n:effect (and (not (in ?y ?z)) (not (available ?x)) (lifting ?x ?y)\\n\\t\\t(decrease (current_load ?z) (weight ?y))))\\n\\n)\\n'}], 'max_tokens': 3012, 'temperature': 1, 'top_p': 1}}\n",
      "{'custom_id': 'Depots_Nu2_nl', 'method': 'POST', 'url': '/v1/chat/completions', 'body': {'model': 'gpt-4o', 'messages': [{'role': 'system', 'content': 'You are a PDDL domain creation expert, you modify domains based on requested changes.'}, {'role': 'user', 'content': 'Modify the following PDDL\\nRemove the fuel consumption concept\\n\\nThis modification will require removing 3 functions: fuel-tank, current-fuel and distance\\n\\nModify the actions accordingly\\n\\n(define (domain Depot)\\n(:requirements :typing :fluents)\\n(:types place locatable - object\\n\\tdepot distributor - place\\n    truck hoist surface - locatable\\n    pallet crate - surface)\\n\\n(:predicates (at ?x - locatable ?y - place) \\n             (on ?x - crate ?y - surface)\\n             (in ?x - crate ?y - truck)\\n             (lifting ?x - hoist ?y - crate)\\n             (available ?x - hoist)\\n             (clear ?x - surface)\\n             (fuel-available ?x - truck) ; predicate indicating if the truck has fuel\\n)\\n\\n(:functions \\n\\t(load_limit ?t - truck) \\n\\t(current_load ?t - truck) \\n\\t(weight ?c - crate)\\n\\t(fuel-cost)\\n    (fuel-tank ?t - truck) ; maximum fuel capacity of the truck\\n    (current-fuel ?t - truck) ; current fuel level of the truck\\n    (distance ?y ?z - place) ; distance between places\\n)\\n\\n(:action Drive\\n:parameters (?x - truck ?y - place ?z - place) \\n:precondition (and (at ?x ?y) (>= (current-fuel ?x) (* (distance ?y ?z) (+ 1 (current_load ?x)))))\\n:effect (and (not (at ?x ?y)) (at ?x ?z)\\n             (decrease (current-fuel ?x) (* (distance ?y ?z) (+ 1 (current_load ?x))))\\n             (increase (fuel-cost) (* (distance ?y ?z) (+ 1 (current_load ?x))))))\\n\\n(:action Refuel\\n:parameters (?x - truck ?p - place)\\n:precondition (at ?x ?p)\\n:effect (assign (current-fuel ?x) (fuel-tank ?x)))\\n\\n(:action Lift\\n:parameters (?x - hoist ?y - crate ?z - surface ?p - place)\\n:precondition (and (at ?x ?p) (available ?x) (at ?y ?p) (on ?y ?z) (clear ?y))\\n:effect (and (not (at ?y ?p)) (lifting ?x ?y) (not (clear ?y)) (not (available ?x)) \\n             (clear ?z) (not (on ?y ?z)) (increase (fuel-cost) 1)))\\n\\n(:action Drop \\n:parameters (?x - hoist ?y - crate ?z - surface ?p - place)\\n:precondition (and (at ?x ?p) (at ?z ?p) (clear ?z) (lifting ?x ?y))\\n:effect (and (available ?x) (not (lifting ?x ?y)) (at ?y ?p) (not (clear ?z)) (clear ?y)\\n\\t\\t(on ?y ?z)))\\n\\n(:action Load\\n:parameters (?x - hoist ?y - crate ?z - truck ?p - place)\\n:precondition (and (at ?x ?p) (at ?z ?p) (lifting ?x ?y)\\n\\t\\t(<= (+ (current_load ?z) (weight ?y)) (load_limit ?z)))\\n:effect (and (not (lifting ?x ?y)) (in ?y ?z) (available ?x)\\n\\t\\t(increase (current_load ?z) (weight ?y))))\\n\\n(:action Unload \\n:parameters (?x - hoist ?y - crate ?z - truck ?p - place)\\n:precondition (and (at ?x ?p) (at ?z ?p) (available ?x) (in ?y ?z))\\n:effect (and (not (in ?y ?z)) (not (available ?x)) (lifting ?x ?y)\\n\\t\\t(decrease (current_load ?z) (weight ?y))))\\n\\n)\\n\\n'}], 'max_tokens': 3012, 'temperature': 1, 'top_p': 1}}\n",
      "{'custom_id': 'Depots_Nu3_nl', 'method': 'POST', 'url': '/v1/chat/completions', 'body': {'model': 'gpt-4o', 'messages': [{'role': 'system', 'content': 'You are a PDDL domain creation expert, you modify domains based on requested changes.'}, {'role': 'user', 'content': 'Modify the following PDDL domain \\nAdd the ability to drive from one location to another\\n\\nThe drive action increases the fuel cost by 10\\n\\n(define (domain Depot)\\n(:requirements :typing :fluents)\\n(:types place locatable - object\\n\\tdepot distributor - place\\n        truck hoist surface - locatable\\n        pallet crate - surface)\\n\\n(:predicates (at ?x - locatable ?y - place) \\n             (on ?x - crate ?y - surface)\\n             (in ?x - crate ?y - truck)\\n             (lifting ?x - hoist ?y - crate)\\n             (available ?x - hoist)\\n             (clear ?x - surface)\\n)\\n\\n(:functions \\n\\t(load_limit ?t - truck) \\n\\t(current_load ?t - truck) \\n\\t(weight ?c - crate)\\n\\t(fuel-cost)\\n)\\n\\n(:action Lift\\n:parameters (?x - hoist ?y - crate ?z - surface ?p - place)\\n:precondition (and (at ?x ?p) (available ?x) (at ?y ?p) (on ?y ?z) (clear ?y))\\n:effect (and (not (at ?y ?p)) (lifting ?x ?y) (not (clear ?y)) (not (available ?x)) \\n             (clear ?z) (not (on ?y ?z)) (increase (fuel-cost) 1)))\\n\\n(:action Drop \\n:parameters (?x - hoist ?y - crate ?z - surface ?p - place)\\n:precondition (and (at ?x ?p) (at ?z ?p) (clear ?z) (lifting ?x ?y))\\n:effect (and (available ?x) (not (lifting ?x ?y)) (at ?y ?p) (not (clear ?z)) (clear ?y)\\n\\t\\t(on ?y ?z)))\\n\\n(:action Load\\n:parameters (?x - hoist ?y - crate ?z - truck ?p - place)\\n:precondition (and (at ?x ?p) (at ?z ?p) (lifting ?x ?y)\\n\\t\\t(<= (+ (current_load ?z) (weight ?y)) (load_limit ?z)))\\n:effect (and (not (lifting ?x ?y)) (in ?y ?z) (available ?x)\\n\\t\\t(increase (current_load ?z) (weight ?y))))\\n\\n(:action Unload \\n:parameters (?x - hoist ?y - crate ?z - truck ?p - place)\\n:precondition (and (at ?x ?p) (at ?z ?p) (available ?x) (in ?y ?z))\\n:effect (and (not (in ?y ?z)) (not (available ?x)) (lifting ?x ?y)\\n\\t\\t(decrease (current_load ?z) (weight ?y))))\\n\\n)\\n'}], 'max_tokens': 3012, 'temperature': 1, 'top_p': 1}}\n",
      "{'custom_id': 'Depots_Nu4_nl', 'method': 'POST', 'url': '/v1/chat/completions', 'body': {'model': 'gpt-4o', 'messages': [{'role': 'system', 'content': 'You are a PDDL domain creation expert, you modify domains based on requested changes.'}, {'role': 'user', 'content': 'Modify the following PDDL domain\\nAdd lift and drop actions\\n\\nThis will require adding the lifting predicate to indicate the hoist lifting the crate as well as a Lift and Drop action\\n\\nThe Lift action will increase the fuel-cost by 1.\\n\\nReview and understand the logic of the domain and create the actions accordingly\\n\\n(define (domain Depot)\\n(:requirements :typing :fluents)\\n(:types place locatable - object\\n\\tdepot distributor - place\\n        truck hoist surface - locatable\\n        pallet crate - surface)\\n\\n(:predicates (at ?x - locatable ?y - place) \\n             (on ?x - crate ?y - surface)\\n             (in ?x - crate ?y - truck)\\n             (available ?x - hoist)\\n             (clear ?x - surface)\\n)\\n\\n(:functions \\n\\t(load_limit ?t - truck) \\n\\t(current_load ?t - truck) \\n\\t(weight ?c - crate)\\n\\t(fuel-cost)\\n)\\n\\t\\n(:action Drive\\n:parameters (?x - truck ?y - place ?z - place) \\n:precondition (and (at ?x ?y))\\n:effect (and (not (at ?x ?y)) (at ?x ?z)\\n\\t\\t(increase (fuel-cost) 10)))\\n\\n(:action Load\\n:parameters (?x - hoist ?y - crate ?z - truck ?p - place)\\n:precondition (and (at ?x ?p) (at ?z ?p) (available ?x)\\n\\t\\t(<= (+ (current_load ?z) (weight ?y)) (load_limit ?z)))\\n:effect (and (in ?y ?z) (available ?x)\\n\\t\\t(increase (current_load ?z) (weight ?y))))\\n\\n(:action Unload \\n:parameters (?x - hoist ?y - crate ?z - truck ?p - place)\\n:precondition (and (at ?x ?p) (at ?z ?p) (available ?x) (in ?y ?z))\\n:effect (and (not (in ?y ?z)) (available ?x)\\n\\t\\t(decrease (current_load ?z) (weight ?y))))\\n\\n)'}], 'max_tokens': 3012, 'temperature': 1, 'top_p': 1}}\n"
     ]
    }
   ],
   "source": [
    "with open(\"results/batch-prompt-only.jsonl\", \"r\") as file:\n",
    "    batch = file.readlines()\n",
    "    batch = [json.loads(line) for line in batch]\n",
    "for i in range(5):\n",
    "    print(batch[i])"
   ]
  },
  {
   "cell_type": "code",
   "execution_count": null,
   "metadata": {},
   "outputs": [],
   "source": [
    "with open(\"results/batch-prompt-and-code.jsonl\", \"r\") as file:\n",
    "    batch = file.readlines()\n",
    "    batch = [json.loads(line) for line in batch]\n",
    "for i in range(5):\n",
    "    print(batch[i])"
   ]
  },
  {
   "cell_type": "code",
   "execution_count": 214,
   "metadata": {},
   "outputs": [
    {
     "name": "stdout",
     "output_type": "stream",
     "text": [
      "Batch file uploaded successfully\n"
     ]
    }
   ],
   "source": [
    "#Upload batch data to openai\n",
    "batch_file_input = upload_batch(client, \"batch-prompt-only.jsonl\")\n",
    "#batch_file_input = upload_batch(client, \"batch-prompt-and-code.jsonl\")"
   ]
  },
  {
   "cell_type": "code",
   "execution_count": 215,
   "metadata": {},
   "outputs": [
    {
     "data": {
      "text/plain": [
       "'file-uzwrJEXlYGj0QDx3DwDO3LRH'"
      ]
     },
     "execution_count": 215,
     "metadata": {},
     "output_type": "execute_result"
    }
   ],
   "source": [
    "batch_file_input.id"
   ]
  },
  {
   "cell_type": "code",
   "execution_count": 216,
   "metadata": {},
   "outputs": [
    {
     "name": "stdout",
     "output_type": "stream",
     "text": [
      "Error saving run info\n",
      "Run started successfully\n"
     ]
    }
   ],
   "source": [
    "batch_info = start_run(client, batch_file_input.id)"
   ]
  },
  {
   "cell_type": "code",
   "execution_count": 217,
   "metadata": {},
   "outputs": [
    {
     "name": "stdout",
     "output_type": "stream",
     "text": [
      "batch_hagBjDRgG8WTL42gWLpjPf2b\n"
     ]
    }
   ],
   "source": [
    "# Check batch ID\n",
    "#print(batch_info)\n",
    "print(batch_info.id)\n",
    "batch_id = batch_info.id"
   ]
  },
  {
   "cell_type": "code",
   "execution_count": 225,
   "metadata": {},
   "outputs": [
    {
     "name": "stdout",
     "output_type": "stream",
     "text": [
      "Status: completed\n",
      "Output_id: file-GiAX7eLHZ4Lb5SoqmPi92zBz\n",
      "BatchRequestsCount: BatchRequestCounts(completed=270, failed=0, total=270)\n"
     ]
    }
   ],
   "source": [
    "# check current status of the run\n",
    "status = client.batches.retrieve(batch_id)\n",
    "print(f\"Status: {status.status}\\nOutput_id: {status.output_file_id}\\nBatchRequestsCount: {status.request_counts}\")"
   ]
  },
  {
   "cell_type": "code",
   "execution_count": 226,
   "metadata": {},
   "outputs": [],
   "source": [
    "#Getting results fromt the run\n",
    "content = client.files.content(status.output_file_id)\n",
    "file_contents = content.content\n",
    "contents = file_contents.decode(\"utf-8\")\n",
    "json_content = []\n",
    "for line in contents.split(\"\\n\"):\n",
    "    if line:\n",
    "        json_content.append(json.loads(line))"
   ]
  },
  {
   "cell_type": "code",
   "execution_count": 230,
   "metadata": {},
   "outputs": [],
   "source": [
    "def save_results(json_content, name = \"results.jsonl\"):\n",
    "    with open(f\"results/{name}\", \"w\") as file:\n",
    "            for line in json_content:\n",
    "                file.write(json.dumps(line))\n",
    "                file.write(\"\\n\")"
   ]
  },
  {
   "cell_type": "code",
   "execution_count": null,
   "metadata": {},
   "outputs": [],
   "source": [
    "save_results(json_content)\n",
    "#save_results(json_content, \"results_code.jsonl\")"
   ]
  },
  {
   "cell_type": "code",
   "execution_count": 231,
   "metadata": {},
   "outputs": [],
   "source": [
    "#Extract domains\n",
    "def extract_domain(jsonl_file):\n",
    "    with open(jsonl_file, \"r\") as file:\n",
    "        jsonl = file.readlines()\n",
    "        jsonl = [json.loads(line) for line in jsonl]\n",
    "    domains = {}\n",
    "    for line in jsonl:\n",
    "            domain = line[\"response\"][\"body\"][\"choices\"][0][\"message\"][\"content\"].split(\"```\")[1]\n",
    "            domain = domain[domain.index(\"(\"):]\n",
    "            tag = line[\"custom_id\"]\n",
    "            domains[tag] = domain\n",
    "    return domains"
   ]
  },
  {
   "cell_type": "code",
   "execution_count": 232,
   "metadata": {},
   "outputs": [],
   "source": [
    "domains = extract_domain(\"results.jsonl\")\n",
    "#domains = extract_domain(\"results_code.jsonl\")"
   ]
  },
  {
   "cell_type": "code",
   "execution_count": 233,
   "metadata": {},
   "outputs": [
    {
     "name": "stdout",
     "output_type": "stream",
     "text": [
      "dict_keys(['Depots_Nu0_nl', 'Depots_Nu1_nl', 'Depots_Nu2_nl', 'Depots_Nu3_nl', 'Depots_Nu4_nl', 'Depots_Nu5_nl', 'Depots_Nu6_nl', 'Depots_Nu7_nl', 'Depots_Nu8_nl', 'Depots_Nu9_nl', 'Depots_Nu10_nl', 'Depots_Nu11_nl', 'Depots_Nu0', 'Depots_Nu1', 'Depots_Nu2', 'Depots_Nu3', 'Depots_Nu4', 'Depots_Nu5', 'Depots_Nu6', 'Depots_Nu7', 'Depots_Nu8', 'Depots_Nu9', 'Depots_Nu10', 'Depots_Nu11', 'Depots_Si0_nl', 'Depots_Si1_nl', 'Depots_Si2_nl', 'Depots_Si3_nl', 'Depots_Si4_nl', 'Depots_Si5_nl', 'Depots_Si6_nl', 'Depots_Si7_nl', 'Depots_Si8_nl', 'Depots_Si9_nl', 'Depots_Si10_nl', 'Depots_Si0', 'Depots_Si1', 'Depots_Si2', 'Depots_Si3', 'Depots_Si4', 'Depots_Si5', 'Depots_Si6', 'Depots_Si7', 'Depots_Si8', 'Depots_Si9', 'Depots_Si10', 'Depots_St0_nl', 'Depots_St1_nl', 'Depots_St2_nl', 'Depots_St3_nl', 'Depots_St4_nl', 'Depots_St5_nl', 'Depots_St6_nl', 'Depots_St7_nl', 'Depots_St0', 'Depots_St1', 'Depots_St2', 'Depots_St3', 'Depots_St4', 'Depots_St5', 'Depots_St6', 'Depots_St7', 'Depots_Ti0_nl', 'Depots_Ti1_nl', 'Depots_Ti2_nl', 'Depots_Ti3_nl', 'Depots_Ti4_nl', 'Depots_Ti5_nl', 'Depots_Ti6_nl', 'Depots_Ti7_nl', 'Depots_Ti8_nl', 'Depots_Ti9_nl', 'Depots_Ti10_nl', 'Depots_Ti11_nl', 'Depots_Ti12_nl', 'Depots_Ti13_nl', 'Depots_Ti0', 'Depots_Ti1', 'Depots_Ti2', 'Depots_Ti3', 'Depots_Ti4', 'Depots_Ti5', 'Depots_Ti6', 'Depots_Ti7', 'Depots_Ti8', 'Depots_Ti9', 'Depots_Ti10', 'Depots_Ti11', 'Depots_Ti12', 'Depots_Ti13', 'DriverLog_Nu0_nl', 'DriverLog_Nu1_nl', 'DriverLog_Nu2_nl', 'DriverLog_Nu3_nl', 'DriverLog_Nu4_nl', 'DriverLog_Nu5_nl', 'DriverLog_Nu6_nl', 'DriverLog_Nu7_nl', 'DriverLog_Nu8_nl', 'DriverLog_Nu9_nl', 'DriverLog_Nu10_nl', 'DriverLog_Nu0', 'DriverLog_Nu1', 'DriverLog_Nu2', 'DriverLog_Nu3', 'DriverLog_Nu4', 'DriverLog_Nu5', 'DriverLog_Nu6', 'DriverLog_Nu7', 'DriverLog_Nu8', 'DriverLog_Nu9', 'DriverLog_Nu10', 'DriverLog_Nu11', 'DriverLog_Si0_nl', 'DriverLog_Si1_nl', 'DriverLog_Si2_nl', 'DriverLog_Si3_nl', 'DriverLog_Si4_nl', 'DriverLog_Si5_nl', 'DriverLog_Si6_nl', 'DriverLog_Si7_nl', 'DriverLog_Si8_nl', 'DriverLog_Si9_nl', 'DriverLog_Si10_nl', 'DriverLog_Si0', 'DriverLog_Si1', 'DriverLog_Si2', 'DriverLog_Si3', 'DriverLog_Si4', 'DriverLog_Si5', 'DriverLog_Si6', 'DriverLog_Si7', 'DriverLog_Si8', 'DriverLog_Si9', 'DriverLog_Si10', 'DriverLog_Si11', 'DriverLog_St0_nl', 'DriverLog_St1_nl', 'DriverLog_St2_nl', 'DriverLog_St3_nl', 'DriverLog_St4_nl', 'DriverLog_St5_nl', 'DriverLog_St6_nl', 'DriverLog_St7_nl', 'DriverLog_St0', 'DriverLog_St1', 'DriverLog_St2', 'DriverLog_St3', 'DriverLog_St4', 'DriverLog_St5', 'DriverLog_St6', 'DriverLog_St7', 'DriverLog_St8', 'DriverLog_Ti0_nl', 'DriverLog_Ti1_nl', 'DriverLog_Ti2_nl', 'DriverLog_Ti3_nl', 'DriverLog_Ti4_nl', 'DriverLog_Ti5_nl', 'DriverLog_Ti6_nl', 'DriverLog_Ti7_nl', 'DriverLog_Ti8_nl', 'DriverLog_Ti9_nl', 'DriverLog_Ti10_nl', 'DriverLog_Ti11_nl', 'DriverLog_Ti12_nl', 'DriverLog_Ti13_nl', 'DriverLog_Ti0', 'DriverLog_Ti1', 'DriverLog_Ti2', 'DriverLog_Ti3', 'DriverLog_Ti4', 'DriverLog_Ti5', 'DriverLog_Ti6', 'DriverLog_Ti7', 'DriverLog_Ti8', 'DriverLog_Ti9', 'DriverLog_Ti10', 'DriverLog_Ti11', 'DriverLog_Ti12', 'DriverLog_Ti13', 'DriverLog_Ti14', 'Rovers_Nu0_nl', 'Rovers_Nu1_nl', 'Rovers_Nu2_nl', 'Rovers_Nu3_nl', 'Rovers_Nu4_nl', 'Rovers_Nu5_nl', 'Rovers_Nu6_nl', 'Rovers_Nu7_nl', 'Rovers_Nu8_nl', 'Rovers_Nu9_nl', 'Rovers_Nu10_nl', 'Rovers_Nu0', 'Rovers_Nu1', 'Rovers_Nu2', 'Rovers_Nu3', 'Rovers_Nu4', 'Rovers_Nu5', 'Rovers_Nu6', 'Rovers_Nu7', 'Rovers_Nu8', 'Rovers_Nu9', 'Rovers_Nu10', 'Rovers_Si0_nl', 'Rovers_Si1_nl', 'Rovers_Si2_nl', 'Rovers_Si3_nl', 'Rovers_Si4_nl', 'Rovers_Si5_nl', 'Rovers_Si6_nl', 'Rovers_Si7_nl', 'Rovers_Si8_nl', 'Rovers_Si9_nl', 'Rovers_Si10_nl', 'Rovers_Si0', 'Rovers_Si1', 'Rovers_Si2', 'Rovers_Si3', 'Rovers_Si4', 'Rovers_Si5', 'Rovers_Si6', 'Rovers_Si7', 'Rovers_Si8', 'Rovers_Si9', 'Rovers_Si10', 'Rovers_St0_nl', 'Rovers_St1_nl', 'Rovers_St2_nl', 'Rovers_St3_nl', 'Rovers_St4_nl', 'Rovers_St5_nl', 'Rovers_St6_nl', 'Rovers_St7_nl', 'Rovers_St8_nl', 'Rovers_St0', 'Rovers_St1', 'Rovers_St2', 'Rovers_St3', 'Rovers_St4', 'Rovers_St5', 'Rovers_St6', 'Rovers_St7', 'Rovers_St8', 'Rovers_Ti0_nl', 'Rovers_Ti1_nl', 'Rovers_Ti2_nl', 'Rovers_Ti3_nl', 'Rovers_Ti4_nl', 'Rovers_Ti5_nl', 'Rovers_Ti6_nl', 'Rovers_Ti7_nl', 'Rovers_Ti8_nl', 'Rovers_Ti9_nl', 'Rovers_Ti10_nl', 'Rovers_Ti11_nl', 'Rovers_Ti12_nl', 'Rovers_Ti0', 'Rovers_Ti1', 'Rovers_Ti2', 'Rovers_Ti3', 'Rovers_Ti4', 'Rovers_Ti5', 'Rovers_Ti6', 'Rovers_Ti7', 'Rovers_Ti8', 'Rovers_Ti9', 'Rovers_Ti10', 'Rovers_Ti11', 'Rovers_Ti12'])\n"
     ]
    }
   ],
   "source": [
    "print(domains.keys())"
   ]
  },
  {
   "cell_type": "code",
   "execution_count": 234,
   "metadata": {},
   "outputs": [],
   "source": [
    "#Save PDDL results\n",
    "def save_pddl(domains, path, subfolder=\"AI_gen\"):\n",
    "    for key, value in domains.items():\n",
    "        if key.startswith(\"Depots\"):\n",
    "            if \"Nu\" in key:\n",
    "                with open(os.path.join(path, \"Depots\", \"Numeric\", subfolder, f\"{key}.pddl\"), \"w\") as file:\n",
    "                    file.write(value)\n",
    "            elif \"Si\" in key:\n",
    "                with open(os.path.join(path, \"Depots\", \"SimpleTime\", subfolder, f\"{key}.pddl\"), \"w\") as file:\n",
    "                    file.write(value)\n",
    "            elif \"St\" in key:\n",
    "                with open(os.path.join(path, \"Depots\", \"Strips\", subfolder, f\"{key}.pddl\"), \"w\") as file:\n",
    "                    file.write(value)\n",
    "            elif \"Ti\" in key:\n",
    "                with open(os.path.join(path, \"Depots\", \"Time\", subfolder, f\"{key}.pddl\"), \"w\") as file:\n",
    "                    file.write(value)\n",
    "        elif key.startswith(\"DriverLog\"):\n",
    "            if \"Nu\" in key:\n",
    "                with open(os.path.join(path, \"DriverLog\", \"Numeric\", subfolder, f\"{key}.pddl\"), \"w\") as file:\n",
    "                    file.write(value)\n",
    "            elif \"Si\" in key:\n",
    "                with open(os.path.join(path, \"DriverLog\", \"SimpleTime\", subfolder, f\"{key}.pddl\"), \"w\") as file:\n",
    "                    file.write(value)\n",
    "            elif \"St\" in key:\n",
    "                with open(os.path.join(path, \"DriverLog\", \"Strips\", subfolder, f\"{key}.pddl\"), \"w\") as file:\n",
    "                    file.write(value)\n",
    "            elif \"Ti\" in key:\n",
    "                with open(os.path.join(path, \"DriverLog\", \"Time\", subfolder, f\"{key}.pddl\"), \"w\") as file:\n",
    "                    file.write(value)\n",
    "        elif key.startswith(\"Rovers\"):\n",
    "            if \"Nu\" in key:\n",
    "                with open(os.path.join(path, \"Rovers\", \"Numeric\", subfolder, f\"{key}.pddl\"), \"w\") as file:\n",
    "                    file.write(value)\n",
    "            elif \"Si\" in key:\n",
    "                with open(os.path.join(path, \"Rovers\", \"SimpleTime\", subfolder, f\"{key}.pddl\"), \"w\") as file:\n",
    "                    file.write(value)\n",
    "            elif \"St\" in key:\n",
    "                with open(os.path.join(path, \"Rovers\", \"Strips\", subfolder, f\"{key}.pddl\"), \"w\") as file:\n",
    "                    file.write(value)\n",
    "            elif \"Ti\" in key:\n",
    "                with open(os.path.join(path, \"Rovers\", \"Time\", subfolder, f\"{key}.pddl\"), \"w\") as file:\n",
    "                    file.write(value)\n",
    "    print(f\"PDDL files saved successfully in {path}\")"
   ]
  },
  {
   "cell_type": "code",
   "execution_count": 235,
   "metadata": {},
   "outputs": [
    {
     "name": "stdout",
     "output_type": "stream",
     "text": [
      "PDDL files saved successfully in /home/god/Documents/Masters/data/IPC3/Tests1\n"
     ]
    }
   ],
   "source": [
    "path = \"data/IPC3/Tests1\"\n",
    "path = os.path.abspath(path)\n",
    "save_pddl(domains, path)\n",
    "#save_pddl(domains, path, \"AI_gen_code\")"
   ]
  },
  {
   "cell_type": "markdown",
   "metadata": {},
   "source": [
    "# Report file\n",
    "## Syntax\n",
    "- Domain\n",
    "    - Requirement\n",
    "        - Total syntax errors\n",
    "        - Syntax errors natural language\n",
    "        - Syntax errors regular\n",
    "        - total success\n",
    "\n",
    "## Plan\n",
    "- Domain\n",
    "    - Requirement\n",
    "        - Failed plan generations natural language\n",
    "        - Failed plan generations regular\n",
    "        - Total failed plan generations\n",
    "        - Total success"
   ]
  },
  {
   "cell_type": "code",
   "execution_count": 2,
   "metadata": {},
   "outputs": [
    {
     "name": "stdout",
     "output_type": "stream",
     "text": [
      "{'domain': 'Depots', 'requirement': 'Numeric', 'file': 'Depots_Nu7.pddl', 'errors': 0, 'warnings': 0, 'error_list': [], 'warning_list': []}\n"
     ]
    }
   ],
   "source": [
    "#Run in python to get outputs\n",
    "import json\n",
    "import os\n",
    "import subprocess\n",
    "subprocess.os.chdir(\"/home/god/Documents/Masters\")\n",
    "\n",
    "syntax_path = \"results/syntax-AI_gen.jsonl\"\n",
    "#syntax_path = \"results/syntax-AI_gen_code.jsonl\"\n",
    "\n",
    "with open(syntax_path, \"r\") as file:\n",
    "    syntax_results = file.readlines()\n",
    "    syntax_results = [json.loads(line) for line in syntax_results]\n",
    "\n",
    "print(syntax_results[0])"
   ]
  },
  {
   "cell_type": "code",
   "execution_count": 3,
   "metadata": {},
   "outputs": [],
   "source": [
    "#Process results\n",
    "Depots = {\"Numeric\": 0, \"SimpleTime\": 0, \"Strips\": 0, \"Time\": 0}\n",
    "DriverLog = {\"Numeric\": 0, \"SimpleTime\": 0, \"Strips\": 0, \"Time\": 0}\n",
    "Rovers = {\"Numeric\": 0, \"SimpleTime\": 0, \"Strips\": 0, \"Time\": 0}\n",
    "syntax_evaluation = {\"Depots\": Depots, \"DriverLog\": DriverLog, \"Rovers\": Rovers}\n",
    "natural_language_errors = 0\n",
    "invalid_syntax_files = []\n",
    "for result in syntax_results:\n",
    "    if result[\"errors\"] > 0:\n",
    "        syntax_evaluation[result[\"domain\"]][result[\"requirement\"]] += 1\n",
    "        invalid_syntax_files.append(result[\"file\"])\n",
    "        if \"_nl\" in result[\"file\"]:\n",
    "            natural_language_errors += 1\n",
    "\n",
    "total_numerics = sum([syntax_evaluation[\"Depots\"][\"Numeric\"], syntax_evaluation[\"DriverLog\"][\"Numeric\"], syntax_evaluation[\"Rovers\"][\"Numeric\"]])\n",
    "total_simpletimes = sum([syntax_evaluation[\"Depots\"][\"SimpleTime\"], syntax_evaluation[\"DriverLog\"][\"SimpleTime\"], syntax_evaluation[\"Rovers\"][\"SimpleTime\"]])\n",
    "total_strips = sum([syntax_evaluation[\"Depots\"][\"Strips\"], syntax_evaluation[\"DriverLog\"][\"Strips\"], syntax_evaluation[\"Rovers\"][\"Strips\"]])\n",
    "total_time = sum([syntax_evaluation[\"Depots\"][\"Time\"], syntax_evaluation[\"DriverLog\"][\"Time\"], syntax_evaluation[\"Rovers\"][\"Time\"]])\n",
    "\n",
    "Total_depot = sum([syntax_evaluation[\"Depots\"][\"Numeric\"], syntax_evaluation[\"Depots\"][\"SimpleTime\"], syntax_evaluation[\"Depots\"][\"Strips\"], syntax_evaluation[\"Depots\"][\"Time\"]])\n",
    "Total_DriverLog = sum([syntax_evaluation[\"DriverLog\"][\"Numeric\"], syntax_evaluation[\"DriverLog\"][\"SimpleTime\"], syntax_evaluation[\"DriverLog\"][\"Strips\"], syntax_evaluation[\"DriverLog\"][\"Time\"]])\n",
    "Total_Rovers = sum([syntax_evaluation[\"Rovers\"][\"Numeric\"], syntax_evaluation[\"Rovers\"][\"SimpleTime\"], syntax_evaluation[\"Rovers\"][\"Strips\"], syntax_evaluation[\"Rovers\"][\"Time\"]])\n",
    "\n",
    "Total = sum([Total_depot, Total_DriverLog, Total_Rovers])\n",
    "\n",
    "percentage_errors = \"{:.2f}\".format((Total/270)*100)\n",
    "\n",
    "regular_expression_errors = Total - natural_language_errors\n",
    "regular_expression_percentage = \"{:.2f}\".format((regular_expression_errors/Total)*100)\n",
    "natural_language_errors = \"{:.2f}\".format((natural_language_errors/Total)*100)\n",
    "        \n"
   ]
  },
  {
   "cell_type": "code",
   "execution_count": 4,
   "metadata": {},
   "outputs": [
    {
     "name": "stdout",
     "output_type": "stream",
     "text": [
      "Total errors: 11\n",
      "Total errors percentage: 4.07%\n",
      "Successful modification without automated corrections: 95.93%\n",
      "\n",
      "Total numeric errors: 0\n",
      "Total simpletime errors: 5\n",
      "Total strips errors: 1\n",
      "Total time errors: 5\n",
      "\n",
      "Total Depot errors: 1\n",
      "Total DriverLog errors: 4\n",
      "Total Rovers errors: 6\n",
      "\n",
      "Total regular expression errors: 7\n",
      "Regular expression errors percentage: 63.64%\n",
      "Natural language errors: 36.36%\n",
      "Total natural language errors: 36.36\n",
      "\n",
      "\n",
      "Files with invalid syntax ['Depots_Si7.pddl', 'DriverLog_Si11.pddl', 'DriverLog_Si10.pddl', 'DriverLog_Si3_nl.pddl', 'DriverLog_Ti8.pddl', 'Rovers_Si1_nl.pddl', 'Rovers_St8.pddl', 'Rovers_Ti5.pddl', 'Rovers_Ti2_nl.pddl', 'Rovers_Ti6_nl.pddl', 'Rovers_Ti6.pddl']\n"
     ]
    }
   ],
   "source": [
    "print(f\"Total errors: {Total}\")\n",
    "print(f\"Total errors percentage: {percentage_errors}%\")\n",
    "print(f\"Successful modification without automated corrections: {'{:.2f}'.format(100-float(percentage_errors))}%\\n\")\n",
    "print(f\"Total numeric errors: {total_numerics}\")\n",
    "print(f\"Total simpletime errors: {total_simpletimes}\")\n",
    "print(f\"Total strips errors: {total_strips}\")\n",
    "print(f\"Total time errors: {total_time}\\n\")\n",
    "\n",
    "print(f\"Total Depot errors: {Total_depot}\")\n",
    "print(f\"Total DriverLog errors: {Total_DriverLog}\")\n",
    "print(f\"Total Rovers errors: {Total_Rovers}\\n\")\n",
    "\n",
    "print(f\"Total regular expression errors: {regular_expression_errors}\")\n",
    "print(f\"Regular expression errors percentage: {regular_expression_percentage}%\")\n",
    "print(f\"Natural language errors: {natural_language_errors}%\")\n",
    "print(f\"Total natural language errors: {natural_language_errors}\\n\\n\")\n",
    "\n",
    "print(\"Files with invalid syntax\", invalid_syntax_files)"
   ]
  },
  {
   "cell_type": "code",
   "execution_count": 14,
   "metadata": {},
   "outputs": [],
   "source": [
    "import subprocess\n",
    "import concurrent.futures\n",
    "\n",
    "pddl_path = \"/home/god/Documents/Masters/data/IPC3/Tests1\"\n",
    "popf_path = \"/home/god/.planutils/packages/popf\"\n",
    "domain_folder = \"AI_gen\"\n",
    "\n",
    "Depots = {\"Numeric\": 0, \"SimpleTime\": 0, \"Strips\": 0, \"Time\": 0}\n",
    "DriverLog = {\"Numeric\": 0, \"SimpleTime\": 0, \"Strips\": 0, \"Time\": 0}\n",
    "Rovers = {\"Numeric\": 0, \"SimpleTime\": 0, \"Strips\": 0, \"Time\": 0}\n",
    "plan_evaluation = {\"Depots\": Depots, \"DriverLog\": DriverLog, \"Rovers\": Rovers}\n",
    "natural_language_errors = 0\n",
    "files_with_failed_plans = []\n",
    "files_timeout = []\n",
    "\n",
    "runs = []\n",
    "subprocess.os.chdir(popf_path)\n",
    "total = 0\n",
    "success = 0\n",
    "for domain in [\"Depots\", \"DriverLog\", \"Rovers\"]:\n",
    "    for req in [\"Numeric\", \"SimpleTime\", \"Strips\", \"Time\"]:\n",
    "        files = sorted(os.listdir(os.path.join(pddl_path, domain, req, domain_folder)), key=natural_keys)\n",
    "        for file in files:\n",
    "            if file.endswith(\".pddl\") and file not in invalid_syntax_files:\n",
    "                problem_files = sorted(os.listdir(os.path.join(pddl_path, domain, req, \"problems\")), key=natural_keys)\n",
    "                for problem in problem_files:\n",
    "                    plan_command = f\"./run /home/god/Documents/Masters/data/IPC3/Tests1/{domain}/{req}/{domain_folder}/{file} /home/god/Documents/Masters/data/IPC3/Tests1/{domain}/{req}/problems/{problem}\"\n",
    "                    runs.append(plan_command)\n",
    "                    # try:\n",
    "                    #     plan = subprocess.run(plan_command, shell=True, capture_output=True, check=True, timeout=5)\n",
    "                    #     out = plan.stdout\n",
    "                    #     total += 1\n",
    "                    #     if \"Solution Found\" in out.decode(\"utf-8\"):\n",
    "                    #         success += 1\n",
    "                    #     else:\n",
    "                    #         files_with_failed_plans.append(file)\n",
    "                    #         plan_evaluation[domain][req] += 1\n",
    "                    #         if \"_nl\" in file:\n",
    "                    #             natural_language_errors += 1\n",
    "                    # except subprocess.TimeoutExpired:\n",
    "                    #     files_timeout.append(file)\n",
    "                    #     print(\"Timeout error\")\n",
    "                    # except subprocess.CalledProcessError:\n",
    "                    #     print(\"Error generating plan\")\n",
    "  \n",
    "\n",
    "# Total_plan_depot = sum([plan_evaluation[\"Depots\"][\"Numeric\"], plan_evaluation[\"Depots\"][\"SimpleTime\"], plan_evaluation[\"Depots\"][\"Strips\"], plan_evaluation[\"Depots\"][\"Time\"]])\n",
    "# Total_plan_DriverLog = sum([plan_evaluation[\"DriverLog\"][\"Numeric\"], plan_evaluation[\"DriverLog\"][\"SimpleTime\"], plan_evaluation[\"DriverLog\"][\"Strips\"], plan_evaluation[\"DriverLog\"][\"Time\"]])\n",
    "# Total_plan_Rovers = sum([plan_evaluation[\"Rovers\"][\"Numeric\"], plan_evaluation[\"Rovers\"][\"SimpleTime\"], plan_evaluation[\"Rovers\"][\"Strips\"], plan_evaluation[\"Rovers\"][\"Time\"]])\n",
    "\n",
    "# Total_plan = sum([Total_plan_depot, Total_plan_DriverLog, Total_plan_Rovers])\n",
    "\n",
    "# Total_plan_numerics = sum([plan_evaluation[\"Depots\"][\"Numeric\"], plan_evaluation[\"DriverLog\"][\"Numeric\"], plan_evaluation[\"Rovers\"][\"Numeric\"]])\n",
    "# Total_plan_simpletimes = sum([plan_evaluation[\"Depots\"][\"SimpleTime\"], plan_evaluation[\"DriverLog\"][\"SimpleTime\"], plan_evaluation[\"Rovers\"][\"SimpleTime\"]])\n",
    "# Total_plan_strips = sum([plan_evaluation[\"Depots\"][\"Strips\"], plan_evaluation[\"DriverLog\"][\"Strips\"], plan_evaluation[\"Rovers\"][\"Strips\"]])\n",
    "# Total_plan_time = sum([plan_evaluation[\"Depots\"][\"Time\"], plan_evaluation[\"DriverLog\"][\"Time\"], plan_evaluation[\"Rovers\"][\"Time\"]])\n",
    "\n",
    "# percentage_errors = \"{:.2f}\".format((Total_plan/total)*100)\n",
    "# percentage_success = \"{:.2f}\".format((success/total)*100)\n",
    "\n",
    "# Total_plan_nl_errors = natural_language_errors\n",
    "# Total_plan_regular_errors = Total_plan - natural_language_errors\n",
    "# Total_plan_regular_errors_percentage = \"{:.2f}\".format((Total_plan_regular_errors/Total_plan)*100)\n",
    "# Total_plan_nl_errors_percentage = \"{:.2f}\".format((Total_plan_nl_errors/Total_plan)*100)\n",
    "subprocess.os.chdir(\"/home/god/Documents/Masters/runs\")\n",
    "with open(\"run_commands.txt\", \"w\") as file:\n",
    "    for run in runs:\n",
    "        file.write(run)\n",
    "        file.write(\"\\n\")"
   ]
  },
  {
   "cell_type": "code",
   "execution_count": 299,
   "metadata": {},
   "outputs": [
    {
     "ename": "NameError",
     "evalue": "name 'Total_plan' is not defined",
     "output_type": "error",
     "traceback": [
      "\u001b[0;31m---------------------------------------------------------------------------\u001b[0m",
      "\u001b[0;31mNameError\u001b[0m                                 Traceback (most recent call last)",
      "Cell \u001b[0;32mIn[299], line 1\u001b[0m\n\u001b[0;32m----> 1\u001b[0m \u001b[38;5;28mprint\u001b[39m(\u001b[38;5;124mf\u001b[39m\u001b[38;5;124m\"\u001b[39m\u001b[38;5;124mTotal plan errors: \u001b[39m\u001b[38;5;132;01m{\u001b[39;00m\u001b[43mTotal_plan\u001b[49m\u001b[38;5;132;01m}\u001b[39;00m\u001b[38;5;124m\"\u001b[39m)\n\u001b[1;32m      2\u001b[0m \u001b[38;5;28mprint\u001b[39m(\u001b[38;5;124mf\u001b[39m\u001b[38;5;124m\"\u001b[39m\u001b[38;5;124mTotal plan errors percentage: \u001b[39m\u001b[38;5;132;01m{\u001b[39;00mpercentage_errors\u001b[38;5;132;01m}\u001b[39;00m\u001b[38;5;124m%\u001b[39m\u001b[38;5;124m\"\u001b[39m)\n\u001b[1;32m      3\u001b[0m \u001b[38;5;28mprint\u001b[39m(\u001b[38;5;124mf\u001b[39m\u001b[38;5;124m\"\u001b[39m\u001b[38;5;124mTotal plan success: \u001b[39m\u001b[38;5;132;01m{\u001b[39;00mpercentage_success\u001b[38;5;132;01m}\u001b[39;00m\u001b[38;5;124m%\u001b[39m\u001b[38;5;130;01m\\n\u001b[39;00m\u001b[38;5;124m\"\u001b[39m)\n",
      "\u001b[0;31mNameError\u001b[0m: name 'Total_plan' is not defined"
     ]
    }
   ],
   "source": [
    "print(f\"Total plan errors: {Total_plan}\")\n",
    "print(f\"Total plan errors percentage: {percentage_errors}%\")\n",
    "print(f\"Total plan success: {percentage_success}%\\n\")\n",
    "\n",
    "print(f\"Total plan numeric errors: {Total_plan_numerics}\")\n",
    "print(f\"Total plan simpletime errors: {Total_plan_simpletimes}\")\n",
    "print(f\"Total plan strips errors: {Total_plan_strips}\")\n",
    "print(f\"Total plan time errors: {Total_plan_time}\\n\")\n",
    "\n",
    "print(f\"Total plan Depot errors: {Total_plan_depot}\")\n",
    "print(f\"Total plan DriverLog errors: {Total_plan_DriverLog}\")\n",
    "print(f\"Total plan Rovers errors: {Total_plan_Rovers}\\n\")\n",
    "\n",
    "print(f\"Total regular expression errors: {Total_plan_regular_errors}\")\n",
    "print(f\"Regular expression errors percentage: {Total_plan_regular_errors_percentage}%\")\n",
    "print(f\"Natural language errors: {Total_plan_nl_errors}\")\n",
    "print(f\"Natural language errors percentage: {Total_plan_nl_errors_percentage}%\\n\\n\")\n",
    "\n",
    "print(\"Files with failed plans\", files_with_failed_plans)"
   ]
  }
 ],
 "metadata": {
  "kernelspec": {
   "display_name": "venv",
   "language": "python",
   "name": "python3"
  },
  "language_info": {
   "codemirror_mode": {
    "name": "ipython",
    "version": 3
   },
   "file_extension": ".py",
   "mimetype": "text/x-python",
   "name": "python",
   "nbconvert_exporter": "python",
   "pygments_lexer": "ipython3",
   "version": "3.10.12"
  }
 },
 "nbformat": 4,
 "nbformat_minor": 2
}
